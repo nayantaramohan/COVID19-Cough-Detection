{
  "cells": [
    {
      "cell_type": "markdown",
      "metadata": {
        "id": "b0b55433"
      },
      "source": [
        "# COVID-19 Cough Detection\n",
        "\n",
        "\n",
        "### Task Description：\n",
        "In this notebook, we further tune and train a HuBERT model to detect the presence of COVID-19 in audio cough samples.\n",
        "\n",
        "\n",
        "### Solution:\n",
        "This program will follow the steps:\n",
        "1. General Preparation  \n",
        "2. Data Processing \n",
        "3. Loading the Model and Optimizer  \n",
        "4. Training \n",
        "5. Testing "
      ],
      "id": "b0b55433"
    },
    {
      "cell_type": "markdown",
      "metadata": {
        "id": "5VEDtGIIkIV9"
      },
      "source": [
        "### Install dependencies"
      ],
      "id": "5VEDtGIIkIV9"
    },
    {
      "cell_type": "code",
      "execution_count": null,
      "metadata": {
        "colab": {
          "background_save": true,
          "base_uri": "https://localhost:8080/"
        },
        "id": "hnGh-RlbnHmE",
        "outputId": "942c7ddc-698c-4b85-bafd-8a20fb520d9c"
      },
      "outputs": [
        {
          "name": "stdout",
          "output_type": "stream",
          "text": [
            "Looking in indexes: https://pypi.org/simple, https://us-python.pkg.dev/colab-wheels/public/simple/\n",
            "Requirement already satisfied: transformers in /usr/local/lib/python3.8/dist-packages (4.26.1)\n",
            "Requirement already satisfied: pyyaml>=5.1 in /usr/local/lib/python3.8/dist-packages (from transformers) (6.0)\n",
            "Requirement already satisfied: requests in /usr/local/lib/python3.8/dist-packages (from transformers) (2.25.1)\n",
            "Requirement already satisfied: packaging>=20.0 in /usr/local/lib/python3.8/dist-packages (from transformers) (23.0)\n",
            "Requirement already satisfied: tokenizers!=0.11.3,<0.14,>=0.11.1 in /usr/local/lib/python3.8/dist-packages (from transformers) (0.13.2)\n",
            "Requirement already satisfied: tqdm>=4.27 in /usr/local/lib/python3.8/dist-packages (from transformers) (4.64.1)\n",
            "Requirement already satisfied: numpy>=1.17 in /usr/local/lib/python3.8/dist-packages (from transformers) (1.22.4)\n",
            "Requirement already satisfied: huggingface-hub<1.0,>=0.11.0 in /usr/local/lib/python3.8/dist-packages (from transformers) (0.12.1)\n",
            "Requirement already satisfied: filelock in /usr/local/lib/python3.8/dist-packages (from transformers) (3.9.0)\n",
            "Requirement already satisfied: regex!=2019.12.17 in /usr/local/lib/python3.8/dist-packages (from transformers) (2022.6.2)\n",
            "Requirement already satisfied: typing-extensions>=3.7.4.3 in /usr/local/lib/python3.8/dist-packages (from huggingface-hub<1.0,>=0.11.0->transformers) (4.5.0)\n",
            "Requirement already satisfied: idna<3,>=2.5 in /usr/local/lib/python3.8/dist-packages (from requests->transformers) (2.10)\n",
            "Requirement already satisfied: certifi>=2017.4.17 in /usr/local/lib/python3.8/dist-packages (from requests->transformers) (2022.12.7)\n",
            "Requirement already satisfied: chardet<5,>=3.0.2 in /usr/local/lib/python3.8/dist-packages (from requests->transformers) (4.0.0)\n",
            "Requirement already satisfied: urllib3<1.27,>=1.21.1 in /usr/local/lib/python3.8/dist-packages (from requests->transformers) (1.26.14)\n",
            "Looking in indexes: https://pypi.org/simple, https://us-python.pkg.dev/colab-wheels/public/simple/\n",
            "Requirement already satisfied: datasets in /usr/local/lib/python3.8/dist-packages (2.10.1)\n",
            "Requirement already satisfied: requests>=2.19.0 in /usr/local/lib/python3.8/dist-packages (from datasets) (2.25.1)\n",
            "Requirement already satisfied: pandas in /usr/local/lib/python3.8/dist-packages (from datasets) (1.3.5)\n",
            "Requirement already satisfied: aiohttp in /usr/local/lib/python3.8/dist-packages (from datasets) (3.8.4)\n",
            "Requirement already satisfied: fsspec[http]>=2021.11.1 in /usr/local/lib/python3.8/dist-packages (from datasets) (2023.1.0)\n",
            "Requirement already satisfied: huggingface-hub<1.0.0,>=0.2.0 in /usr/local/lib/python3.8/dist-packages (from datasets) (0.12.1)\n",
            "Requirement already satisfied: tqdm>=4.62.1 in /usr/local/lib/python3.8/dist-packages (from datasets) (4.64.1)\n",
            "Requirement already satisfied: pyarrow>=6.0.0 in /usr/local/lib/python3.8/dist-packages (from datasets) (9.0.0)\n",
            "Requirement already satisfied: xxhash in /usr/local/lib/python3.8/dist-packages (from datasets) (3.2.0)\n",
            "Requirement already satisfied: numpy>=1.17 in /usr/local/lib/python3.8/dist-packages (from datasets) (1.22.4)\n",
            "Requirement already satisfied: responses<0.19 in /usr/local/lib/python3.8/dist-packages (from datasets) (0.18.0)\n",
            "Requirement already satisfied: pyyaml>=5.1 in /usr/local/lib/python3.8/dist-packages (from datasets) (6.0)\n",
            "Requirement already satisfied: dill<0.3.7,>=0.3.0 in /usr/local/lib/python3.8/dist-packages (from datasets) (0.3.6)\n",
            "Requirement already satisfied: packaging in /usr/local/lib/python3.8/dist-packages (from datasets) (23.0)\n",
            "Requirement already satisfied: multiprocess in /usr/local/lib/python3.8/dist-packages (from datasets) (0.70.14)\n",
            "Requirement already satisfied: attrs>=17.3.0 in /usr/local/lib/python3.8/dist-packages (from aiohttp->datasets) (22.2.0)\n",
            "Requirement already satisfied: aiosignal>=1.1.2 in /usr/local/lib/python3.8/dist-packages (from aiohttp->datasets) (1.3.1)\n",
            "Requirement already satisfied: frozenlist>=1.1.1 in /usr/local/lib/python3.8/dist-packages (from aiohttp->datasets) (1.3.3)\n",
            "Requirement already satisfied: multidict<7.0,>=4.5 in /usr/local/lib/python3.8/dist-packages (from aiohttp->datasets) (6.0.4)\n",
            "Requirement already satisfied: async-timeout<5.0,>=4.0.0a3 in /usr/local/lib/python3.8/dist-packages (from aiohttp->datasets) (4.0.2)\n",
            "Requirement already satisfied: charset-normalizer<4.0,>=2.0 in /usr/local/lib/python3.8/dist-packages (from aiohttp->datasets) (3.0.1)\n",
            "Requirement already satisfied: yarl<2.0,>=1.0 in /usr/local/lib/python3.8/dist-packages (from aiohttp->datasets) (1.8.2)\n",
            "Requirement already satisfied: typing-extensions>=3.7.4.3 in /usr/local/lib/python3.8/dist-packages (from huggingface-hub<1.0.0,>=0.2.0->datasets) (4.5.0)\n",
            "Requirement already satisfied: filelock in /usr/local/lib/python3.8/dist-packages (from huggingface-hub<1.0.0,>=0.2.0->datasets) (3.9.0)\n",
            "Requirement already satisfied: chardet<5,>=3.0.2 in /usr/local/lib/python3.8/dist-packages (from requests>=2.19.0->datasets) (4.0.0)\n",
            "Requirement already satisfied: urllib3<1.27,>=1.21.1 in /usr/local/lib/python3.8/dist-packages (from requests>=2.19.0->datasets) (1.26.14)\n",
            "Requirement already satisfied: certifi>=2017.4.17 in /usr/local/lib/python3.8/dist-packages (from requests>=2.19.0->datasets) (2022.12.7)\n",
            "Requirement already satisfied: idna<3,>=2.5 in /usr/local/lib/python3.8/dist-packages (from requests>=2.19.0->datasets) (2.10)\n",
            "Requirement already satisfied: pytz>=2017.3 in /usr/local/lib/python3.8/dist-packages (from pandas->datasets) (2022.7.1)\n",
            "Requirement already satisfied: python-dateutil>=2.7.3 in /usr/local/lib/python3.8/dist-packages (from pandas->datasets) (2.8.2)\n",
            "Requirement already satisfied: six>=1.5 in /usr/local/lib/python3.8/dist-packages (from python-dateutil>=2.7.3->pandas->datasets) (1.15.0)\n"
          ]
        }
      ],
      "source": [
        "! pip install transformers\n",
        "! pip install datasets"
      ],
      "id": "hnGh-RlbnHmE"
    },
    {
      "cell_type": "markdown",
      "metadata": {
        "id": "07106400"
      },
      "source": [
        "## 1. General Preparation"
      ],
      "id": "07106400"
    },
    {
      "cell_type": "markdown",
      "metadata": {
        "id": "e70c3e45"
      },
      "source": [
        "Import some necessary libraries."
      ],
      "id": "e70c3e45"
    },
    {
      "cell_type": "code",
      "execution_count": null,
      "metadata": {
        "id": "2bb22e85"
      },
      "outputs": [],
      "source": [
        "import time\n",
        "from tqdm import tqdm\n",
        "import os\n",
        "import pandas as pd\n",
        "import torch\n",
        "import matplotlib.pyplot as plt\n",
        "import numpy as np\n",
        "from torch.utils.data import DataLoader\n",
        "from sklearn.metrics import roc_auc_score, roc_curve\n",
        "\n",
        "from torch.utils.data import DataLoader"
      ],
      "id": "2bb22e85"
    },
    {
      "cell_type": "markdown",
      "metadata": {
        "id": "9981b719"
      },
      "source": [
        "Use GPU Facilities."
      ],
      "id": "9981b719"
    },
    {
      "cell_type": "code",
      "execution_count": null,
      "metadata": {
        "colab": {
          "base_uri": "https://localhost:8080/"
        },
        "id": "f48fa049",
        "outputId": "abb279bf-4328-4fc1-8106-a4c510e28f25"
      },
      "outputs": [
        {
          "name": "stdout",
          "output_type": "stream",
          "text": [
            "We are using the device cuda:0 - Tesla T4\n"
          ]
        }
      ],
      "source": [
        "cuda_id = 0\n",
        "device = torch.device(\"cuda:%s\" % cuda_id if torch.cuda.is_available() else \"cpu\")\n",
        "device_name = torch.cuda.get_device_name(cuda_id) if torch.cuda.is_available() else \"cpu\"\n",
        "print(\"We are using the device %s - %s\" % (device, device_name))"
      ],
      "id": "f48fa049"
    },
    {
      "cell_type": "code",
      "execution_count": null,
      "metadata": {
        "colab": {
          "base_uri": "https://localhost:8080/"
        },
        "id": "WdebCd9Wmfvl",
        "outputId": "052d6288-67c8-4a30-e46f-c869a9de3b4b"
      },
      "outputs": [
        {
          "data": {
            "text/plain": [
              "1"
            ]
          },
          "execution_count": 4,
          "metadata": {},
          "output_type": "execute_result"
        }
      ],
      "source": [
        "torch.cuda.device_count() "
      ],
      "id": "WdebCd9Wmfvl"
    },
    {
      "cell_type": "markdown",
      "metadata": {
        "id": "1bdf7743"
      },
      "source": [
        "## 2. Data Processing"
      ],
      "id": "1bdf7743"
    },
    {
      "cell_type": "markdown",
      "metadata": {
        "id": "LeslkeC8kSZE"
      },
      "source": [
        "The data is taken from Virufy S3 buckets, which have been pushed to a Drive folder for easier integration. To read the data, we mount the notebook directory to said folder."
      ],
      "id": "LeslkeC8kSZE"
    },
    {
      "cell_type": "code",
      "execution_count": null,
      "metadata": {
        "id": "W9IFhG3k56UK"
      },
      "outputs": [],
      "source": [
        "from google.colab import drive\n",
        "\n",
        "drive.mount('/content/drive')"
      ],
      "id": "W9IFhG3k56UK"
    },
    {
      "cell_type": "markdown",
      "metadata": {
        "id": "JMAtRSQakqss"
      },
      "source": [
        "As seen in our data exploration, the data is highly skewed. To combat this, we take some measures to combat class imbalance by maintaining a ratio of negative to positive samples as 3:1. While a 1:1 ratio would be ideal, the lack of positive samples in the data would result in far too few data points to train our model, leading to its inability to generalize well. "
      ],
      "id": "JMAtRSQakqss"
    },
    {
      "cell_type": "code",
      "execution_count": null,
      "metadata": {
        "colab": {
          "base_uri": "https://localhost:8080/",
          "height": 424
        },
        "id": "8VwwL0kd-B-T",
        "outputId": "e2526445-b7fc-4b12-e722-c7bfa9239a72"
      },
      "outputs": [
        {
          "data": {
            "text/html": [
              "\n",
              "  <div id=\"df-45537999-1e66-452d-bcad-c62ae8090039\">\n",
              "    <div class=\"colab-df-container\">\n",
              "      <div>\n",
              "<style scoped>\n",
              "    .dataframe tbody tr th:only-of-type {\n",
              "        vertical-align: middle;\n",
              "    }\n",
              "\n",
              "    .dataframe tbody tr th {\n",
              "        vertical-align: top;\n",
              "    }\n",
              "\n",
              "    .dataframe thead th {\n",
              "        text-align: right;\n",
              "    }\n",
              "</style>\n",
              "<table border=\"1\" class=\"dataframe\">\n",
              "  <thead>\n",
              "    <tr style=\"text-align: right;\">\n",
              "      <th></th>\n",
              "      <th>source</th>\n",
              "      <th>audio_path</th>\n",
              "      <th>pcr_test_result_inferred</th>\n",
              "    </tr>\n",
              "  </thead>\n",
              "  <tbody>\n",
              "    <tr>\n",
              "      <th>16</th>\n",
              "      <td>coughvid</td>\n",
              "      <td>virufy-cdf-coughvid/00e0a33c-6561-406e-b543-4c...</td>\n",
              "      <td>1</td>\n",
              "    </tr>\n",
              "    <tr>\n",
              "      <th>27</th>\n",
              "      <td>coughvid</td>\n",
              "      <td>virufy-cdf-coughvid/015576c8-2b03-4dcb-b251-78...</td>\n",
              "      <td>1</td>\n",
              "    </tr>\n",
              "    <tr>\n",
              "      <th>57</th>\n",
              "      <td>coughvid</td>\n",
              "      <td>virufy-cdf-coughvid/031fd54a-87b5-4223-9af6-60...</td>\n",
              "      <td>1</td>\n",
              "    </tr>\n",
              "    <tr>\n",
              "      <th>62</th>\n",
              "      <td>coughvid</td>\n",
              "      <td>virufy-cdf-coughvid/0379c586-c500-483c-83a6-95...</td>\n",
              "      <td>1</td>\n",
              "    </tr>\n",
              "    <tr>\n",
              "      <th>68</th>\n",
              "      <td>coughvid</td>\n",
              "      <td>virufy-cdf-coughvid/03c1afa7-eee5-4c18-bd40-c4...</td>\n",
              "      <td>1</td>\n",
              "    </tr>\n",
              "    <tr>\n",
              "      <th>...</th>\n",
              "      <td>...</td>\n",
              "      <td>...</td>\n",
              "      <td>...</td>\n",
              "    </tr>\n",
              "    <tr>\n",
              "      <th>6912</th>\n",
              "      <td>coswara</td>\n",
              "      <td>virufy-cdf-coswara/20200416/cFePAw64vTSRzgy3ZX...</td>\n",
              "      <td>0</td>\n",
              "    </tr>\n",
              "    <tr>\n",
              "      <th>1121</th>\n",
              "      <td>coughvid</td>\n",
              "      <td>virufy-cdf-coughvid/327d1874-7196-4795-80d2-85...</td>\n",
              "      <td>0</td>\n",
              "    </tr>\n",
              "    <tr>\n",
              "      <th>6020</th>\n",
              "      <td>coswara</td>\n",
              "      <td>virufy-cdf-coswara/20200820/k0uQAYNhiUZvHePzPo...</td>\n",
              "      <td>0</td>\n",
              "    </tr>\n",
              "    <tr>\n",
              "      <th>3554</th>\n",
              "      <td>coughvid</td>\n",
              "      <td>virufy-cdf-coughvid/9ab8da0b-bff5-481e-b437-fd...</td>\n",
              "      <td>0</td>\n",
              "    </tr>\n",
              "    <tr>\n",
              "      <th>1614</th>\n",
              "      <td>coughvid</td>\n",
              "      <td>virufy-cdf-coughvid/4757f8b2-708f-4974-b29f-ba...</td>\n",
              "      <td>0</td>\n",
              "    </tr>\n",
              "  </tbody>\n",
              "</table>\n",
              "<p>3016 rows × 3 columns</p>\n",
              "</div>\n",
              "      <button class=\"colab-df-convert\" onclick=\"convertToInteractive('df-45537999-1e66-452d-bcad-c62ae8090039')\"\n",
              "              title=\"Convert this dataframe to an interactive table.\"\n",
              "              style=\"display:none;\">\n",
              "        \n",
              "  <svg xmlns=\"http://www.w3.org/2000/svg\" height=\"24px\"viewBox=\"0 0 24 24\"\n",
              "       width=\"24px\">\n",
              "    <path d=\"M0 0h24v24H0V0z\" fill=\"none\"/>\n",
              "    <path d=\"M18.56 5.44l.94 2.06.94-2.06 2.06-.94-2.06-.94-.94-2.06-.94 2.06-2.06.94zm-11 1L8.5 8.5l.94-2.06 2.06-.94-2.06-.94L8.5 2.5l-.94 2.06-2.06.94zm10 10l.94 2.06.94-2.06 2.06-.94-2.06-.94-.94-2.06-.94 2.06-2.06.94z\"/><path d=\"M17.41 7.96l-1.37-1.37c-.4-.4-.92-.59-1.43-.59-.52 0-1.04.2-1.43.59L10.3 9.45l-7.72 7.72c-.78.78-.78 2.05 0 2.83L4 21.41c.39.39.9.59 1.41.59.51 0 1.02-.2 1.41-.59l7.78-7.78 2.81-2.81c.8-.78.8-2.07 0-2.86zM5.41 20L4 18.59l7.72-7.72 1.47 1.35L5.41 20z\"/>\n",
              "  </svg>\n",
              "      </button>\n",
              "      \n",
              "  <style>\n",
              "    .colab-df-container {\n",
              "      display:flex;\n",
              "      flex-wrap:wrap;\n",
              "      gap: 12px;\n",
              "    }\n",
              "\n",
              "    .colab-df-convert {\n",
              "      background-color: #E8F0FE;\n",
              "      border: none;\n",
              "      border-radius: 50%;\n",
              "      cursor: pointer;\n",
              "      display: none;\n",
              "      fill: #1967D2;\n",
              "      height: 32px;\n",
              "      padding: 0 0 0 0;\n",
              "      width: 32px;\n",
              "    }\n",
              "\n",
              "    .colab-df-convert:hover {\n",
              "      background-color: #E2EBFA;\n",
              "      box-shadow: 0px 1px 2px rgba(60, 64, 67, 0.3), 0px 1px 3px 1px rgba(60, 64, 67, 0.15);\n",
              "      fill: #174EA6;\n",
              "    }\n",
              "\n",
              "    [theme=dark] .colab-df-convert {\n",
              "      background-color: #3B4455;\n",
              "      fill: #D2E3FC;\n",
              "    }\n",
              "\n",
              "    [theme=dark] .colab-df-convert:hover {\n",
              "      background-color: #434B5C;\n",
              "      box-shadow: 0px 1px 3px 1px rgba(0, 0, 0, 0.15);\n",
              "      filter: drop-shadow(0px 1px 2px rgba(0, 0, 0, 0.3));\n",
              "      fill: #FFFFFF;\n",
              "    }\n",
              "  </style>\n",
              "\n",
              "      <script>\n",
              "        const buttonEl =\n",
              "          document.querySelector('#df-45537999-1e66-452d-bcad-c62ae8090039 button.colab-df-convert');\n",
              "        buttonEl.style.display =\n",
              "          google.colab.kernel.accessAllowed ? 'block' : 'none';\n",
              "\n",
              "        async function convertToInteractive(key) {\n",
              "          const element = document.querySelector('#df-45537999-1e66-452d-bcad-c62ae8090039');\n",
              "          const dataTable =\n",
              "            await google.colab.kernel.invokeFunction('convertToInteractive',\n",
              "                                                     [key], {});\n",
              "          if (!dataTable) return;\n",
              "\n",
              "          const docLinkHtml = 'Like what you see? Visit the ' +\n",
              "            '<a target=\"_blank\" href=https://colab.research.google.com/notebooks/data_table.ipynb>data table notebook</a>'\n",
              "            + ' to learn more about interactive tables.';\n",
              "          element.innerHTML = '';\n",
              "          dataTable['output_type'] = 'display_data';\n",
              "          await google.colab.output.renderOutput(dataTable, element);\n",
              "          const docLink = document.createElement('div');\n",
              "          docLink.innerHTML = docLinkHtml;\n",
              "          element.appendChild(docLink);\n",
              "        }\n",
              "      </script>\n",
              "    </div>\n",
              "  </div>\n",
              "  "
            ],
            "text/plain": [
              "        source                                         audio_path  \\\n",
              "16    coughvid  virufy-cdf-coughvid/00e0a33c-6561-406e-b543-4c...   \n",
              "27    coughvid  virufy-cdf-coughvid/015576c8-2b03-4dcb-b251-78...   \n",
              "57    coughvid  virufy-cdf-coughvid/031fd54a-87b5-4223-9af6-60...   \n",
              "62    coughvid  virufy-cdf-coughvid/0379c586-c500-483c-83a6-95...   \n",
              "68    coughvid  virufy-cdf-coughvid/03c1afa7-eee5-4c18-bd40-c4...   \n",
              "...        ...                                                ...   \n",
              "6912   coswara  virufy-cdf-coswara/20200416/cFePAw64vTSRzgy3ZX...   \n",
              "1121  coughvid  virufy-cdf-coughvid/327d1874-7196-4795-80d2-85...   \n",
              "6020   coswara  virufy-cdf-coswara/20200820/k0uQAYNhiUZvHePzPo...   \n",
              "3554  coughvid  virufy-cdf-coughvid/9ab8da0b-bff5-481e-b437-fd...   \n",
              "1614  coughvid  virufy-cdf-coughvid/4757f8b2-708f-4974-b29f-ba...   \n",
              "\n",
              "      pcr_test_result_inferred  \n",
              "16                           1  \n",
              "27                           1  \n",
              "57                           1  \n",
              "62                           1  \n",
              "68                           1  \n",
              "...                        ...  \n",
              "6912                         0  \n",
              "1121                         0  \n",
              "6020                         0  \n",
              "3554                         0  \n",
              "1614                         0  \n",
              "\n",
              "[3016 rows x 3 columns]"
            ]
          },
          "execution_count": 7,
          "metadata": {},
          "output_type": "execute_result"
        }
      ],
      "source": [
        "train_data = pd.read_csv('/content/drive/My Drive/capstone_data/data/model_train_data_set_1_public.csv')\n",
        "train_data = train_data.reset_index(drop=True)\n",
        "train_data = train_data[['source','audio_path','pcr_test_result_inferred']]\n",
        "train_data = train_data.loc[train_data.audio_path.str.startswith('virufy-cdf-iatos')==False]\n",
        "positive = train_data[train_data['pcr_test_result_inferred']==1]\n",
        "negative = train_data[train_data['pcr_test_result_inferred']==0].sample(n=positive.shape[0]*3)\n",
        "train_data = pd.concat([positive,negative])\n",
        "train_data"
      ],
      "id": "8VwwL0kd-B-T"
    },
    {
      "cell_type": "code",
      "execution_count": null,
      "metadata": {
        "colab": {
          "base_uri": "https://localhost:8080/",
          "height": 424
        },
        "id": "kRIqTCiQAQwR",
        "outputId": "0df0ee7b-ccc2-4305-b19c-fc764174aafb"
      },
      "outputs": [
        {
          "data": {
            "text/html": [
              "\n",
              "  <div id=\"df-af28e333-7fa0-4406-b67b-d413066acfc6\">\n",
              "    <div class=\"colab-df-container\">\n",
              "      <div>\n",
              "<style scoped>\n",
              "    .dataframe tbody tr th:only-of-type {\n",
              "        vertical-align: middle;\n",
              "    }\n",
              "\n",
              "    .dataframe tbody tr th {\n",
              "        vertical-align: top;\n",
              "    }\n",
              "\n",
              "    .dataframe thead th {\n",
              "        text-align: right;\n",
              "    }\n",
              "</style>\n",
              "<table border=\"1\" class=\"dataframe\">\n",
              "  <thead>\n",
              "    <tr style=\"text-align: right;\">\n",
              "      <th></th>\n",
              "      <th>source</th>\n",
              "      <th>audio_path</th>\n",
              "      <th>pcr_test_result_inferred</th>\n",
              "    </tr>\n",
              "  </thead>\n",
              "  <tbody>\n",
              "    <tr>\n",
              "      <th>47</th>\n",
              "      <td>coughvid</td>\n",
              "      <td>virufy-cdf-coughvid/06b58ff7-42e9-49d8-8b56-dd...</td>\n",
              "      <td>1</td>\n",
              "    </tr>\n",
              "    <tr>\n",
              "      <th>62</th>\n",
              "      <td>coughvid</td>\n",
              "      <td>virufy-cdf-coughvid/099f9c59-3206-438d-8fd5-be...</td>\n",
              "      <td>1</td>\n",
              "    </tr>\n",
              "    <tr>\n",
              "      <th>113</th>\n",
              "      <td>coughvid</td>\n",
              "      <td>virufy-cdf-coughvid/12121877-e33a-4cba-b63b-00...</td>\n",
              "      <td>1</td>\n",
              "    </tr>\n",
              "    <tr>\n",
              "      <th>117</th>\n",
              "      <td>coughvid</td>\n",
              "      <td>virufy-cdf-coughvid/126b940c-b6c6-4d3d-adc2-92...</td>\n",
              "      <td>1</td>\n",
              "    </tr>\n",
              "    <tr>\n",
              "      <th>141</th>\n",
              "      <td>coughvid</td>\n",
              "      <td>virufy-cdf-coughvid/178f39e2-a261-4ec6-a8fb-3f...</td>\n",
              "      <td>1</td>\n",
              "    </tr>\n",
              "    <tr>\n",
              "      <th>...</th>\n",
              "      <td>...</td>\n",
              "      <td>...</td>\n",
              "      <td>...</td>\n",
              "    </tr>\n",
              "    <tr>\n",
              "      <th>114</th>\n",
              "      <td>coughvid</td>\n",
              "      <td>virufy-cdf-coughvid/121305f0-7c36-44ad-a7ae-50...</td>\n",
              "      <td>0</td>\n",
              "    </tr>\n",
              "    <tr>\n",
              "      <th>1764</th>\n",
              "      <td>coswara</td>\n",
              "      <td>virufy-cdf-coswara/20200416/z3HiQpxpksYG6UTo9u...</td>\n",
              "      <td>0</td>\n",
              "    </tr>\n",
              "    <tr>\n",
              "      <th>1006</th>\n",
              "      <td>coughvid</td>\n",
              "      <td>virufy-cdf-coughvid/b379a0b3-05c1-492e-9f64-03...</td>\n",
              "      <td>0</td>\n",
              "    </tr>\n",
              "    <tr>\n",
              "      <th>19</th>\n",
              "      <td>coughvid</td>\n",
              "      <td>virufy-cdf-coughvid/02f0be6b-a241-4003-8523-52...</td>\n",
              "      <td>0</td>\n",
              "    </tr>\n",
              "    <tr>\n",
              "      <th>1721</th>\n",
              "      <td>coswara</td>\n",
              "      <td>virufy-cdf-coswara/20200418/TyKZXsSHoMO2h8aqmL...</td>\n",
              "      <td>0</td>\n",
              "    </tr>\n",
              "  </tbody>\n",
              "</table>\n",
              "<p>688 rows × 3 columns</p>\n",
              "</div>\n",
              "      <button class=\"colab-df-convert\" onclick=\"convertToInteractive('df-af28e333-7fa0-4406-b67b-d413066acfc6')\"\n",
              "              title=\"Convert this dataframe to an interactive table.\"\n",
              "              style=\"display:none;\">\n",
              "        \n",
              "  <svg xmlns=\"http://www.w3.org/2000/svg\" height=\"24px\"viewBox=\"0 0 24 24\"\n",
              "       width=\"24px\">\n",
              "    <path d=\"M0 0h24v24H0V0z\" fill=\"none\"/>\n",
              "    <path d=\"M18.56 5.44l.94 2.06.94-2.06 2.06-.94-2.06-.94-.94-2.06-.94 2.06-2.06.94zm-11 1L8.5 8.5l.94-2.06 2.06-.94-2.06-.94L8.5 2.5l-.94 2.06-2.06.94zm10 10l.94 2.06.94-2.06 2.06-.94-2.06-.94-.94-2.06-.94 2.06-2.06.94z\"/><path d=\"M17.41 7.96l-1.37-1.37c-.4-.4-.92-.59-1.43-.59-.52 0-1.04.2-1.43.59L10.3 9.45l-7.72 7.72c-.78.78-.78 2.05 0 2.83L4 21.41c.39.39.9.59 1.41.59.51 0 1.02-.2 1.41-.59l7.78-7.78 2.81-2.81c.8-.78.8-2.07 0-2.86zM5.41 20L4 18.59l7.72-7.72 1.47 1.35L5.41 20z\"/>\n",
              "  </svg>\n",
              "      </button>\n",
              "      \n",
              "  <style>\n",
              "    .colab-df-container {\n",
              "      display:flex;\n",
              "      flex-wrap:wrap;\n",
              "      gap: 12px;\n",
              "    }\n",
              "\n",
              "    .colab-df-convert {\n",
              "      background-color: #E8F0FE;\n",
              "      border: none;\n",
              "      border-radius: 50%;\n",
              "      cursor: pointer;\n",
              "      display: none;\n",
              "      fill: #1967D2;\n",
              "      height: 32px;\n",
              "      padding: 0 0 0 0;\n",
              "      width: 32px;\n",
              "    }\n",
              "\n",
              "    .colab-df-convert:hover {\n",
              "      background-color: #E2EBFA;\n",
              "      box-shadow: 0px 1px 2px rgba(60, 64, 67, 0.3), 0px 1px 3px 1px rgba(60, 64, 67, 0.15);\n",
              "      fill: #174EA6;\n",
              "    }\n",
              "\n",
              "    [theme=dark] .colab-df-convert {\n",
              "      background-color: #3B4455;\n",
              "      fill: #D2E3FC;\n",
              "    }\n",
              "\n",
              "    [theme=dark] .colab-df-convert:hover {\n",
              "      background-color: #434B5C;\n",
              "      box-shadow: 0px 1px 3px 1px rgba(0, 0, 0, 0.15);\n",
              "      filter: drop-shadow(0px 1px 2px rgba(0, 0, 0, 0.3));\n",
              "      fill: #FFFFFF;\n",
              "    }\n",
              "  </style>\n",
              "\n",
              "      <script>\n",
              "        const buttonEl =\n",
              "          document.querySelector('#df-af28e333-7fa0-4406-b67b-d413066acfc6 button.colab-df-convert');\n",
              "        buttonEl.style.display =\n",
              "          google.colab.kernel.accessAllowed ? 'block' : 'none';\n",
              "\n",
              "        async function convertToInteractive(key) {\n",
              "          const element = document.querySelector('#df-af28e333-7fa0-4406-b67b-d413066acfc6');\n",
              "          const dataTable =\n",
              "            await google.colab.kernel.invokeFunction('convertToInteractive',\n",
              "                                                     [key], {});\n",
              "          if (!dataTable) return;\n",
              "\n",
              "          const docLinkHtml = 'Like what you see? Visit the ' +\n",
              "            '<a target=\"_blank\" href=https://colab.research.google.com/notebooks/data_table.ipynb>data table notebook</a>'\n",
              "            + ' to learn more about interactive tables.';\n",
              "          element.innerHTML = '';\n",
              "          dataTable['output_type'] = 'display_data';\n",
              "          await google.colab.output.renderOutput(dataTable, element);\n",
              "          const docLink = document.createElement('div');\n",
              "          docLink.innerHTML = docLinkHtml;\n",
              "          element.appendChild(docLink);\n",
              "        }\n",
              "      </script>\n",
              "    </div>\n",
              "  </div>\n",
              "  "
            ],
            "text/plain": [
              "        source                                         audio_path  \\\n",
              "47    coughvid  virufy-cdf-coughvid/06b58ff7-42e9-49d8-8b56-dd...   \n",
              "62    coughvid  virufy-cdf-coughvid/099f9c59-3206-438d-8fd5-be...   \n",
              "113   coughvid  virufy-cdf-coughvid/12121877-e33a-4cba-b63b-00...   \n",
              "117   coughvid  virufy-cdf-coughvid/126b940c-b6c6-4d3d-adc2-92...   \n",
              "141   coughvid  virufy-cdf-coughvid/178f39e2-a261-4ec6-a8fb-3f...   \n",
              "...        ...                                                ...   \n",
              "114   coughvid  virufy-cdf-coughvid/121305f0-7c36-44ad-a7ae-50...   \n",
              "1764   coswara  virufy-cdf-coswara/20200416/z3HiQpxpksYG6UTo9u...   \n",
              "1006  coughvid  virufy-cdf-coughvid/b379a0b3-05c1-492e-9f64-03...   \n",
              "19    coughvid  virufy-cdf-coughvid/02f0be6b-a241-4003-8523-52...   \n",
              "1721   coswara  virufy-cdf-coswara/20200418/TyKZXsSHoMO2h8aqmL...   \n",
              "\n",
              "      pcr_test_result_inferred  \n",
              "47                           1  \n",
              "62                           1  \n",
              "113                          1  \n",
              "117                          1  \n",
              "141                          1  \n",
              "...                        ...  \n",
              "114                          0  \n",
              "1764                         0  \n",
              "1006                         0  \n",
              "19                           0  \n",
              "1721                         0  \n",
              "\n",
              "[688 rows x 3 columns]"
            ]
          },
          "execution_count": 8,
          "metadata": {},
          "output_type": "execute_result"
        }
      ],
      "source": [
        "val_data = pd.read_csv('/content/drive/My Drive/capstone_data/data/model_val_data_set_1_public.csv')\n",
        "val_data = val_data.reset_index(drop=True)\n",
        "val_data = val_data[['source','audio_path','pcr_test_result_inferred']]\n",
        "val_data = val_data.loc[val_data.audio_path.str.contains('iatos')==False]\n",
        "positive = val_data[val_data['pcr_test_result_inferred']==1]\n",
        "negative = val_data[val_data['pcr_test_result_inferred']==0].sample(n=positive.shape[0]*3)\n",
        "val_data = pd.concat([positive,negative])\n",
        "val_data"
      ],
      "id": "kRIqTCiQAQwR"
    },
    {
      "cell_type": "code",
      "execution_count": null,
      "metadata": {
        "colab": {
          "base_uri": "https://localhost:8080/"
        },
        "id": "65904d11",
        "outputId": "a931ea51-eec0-435f-da08-5ef56fa7ae52"
      },
      "outputs": [
        {
          "data": {
            "text/plain": [
              "0    2262\n",
              "1     754\n",
              "Name: pcr_test_result_inferred, dtype: int64"
            ]
          },
          "execution_count": 9,
          "metadata": {},
          "output_type": "execute_result"
        }
      ],
      "source": [
        "train_data['pcr_test_result_inferred'].value_counts()"
      ],
      "id": "65904d11"
    },
    {
      "cell_type": "code",
      "execution_count": null,
      "metadata": {
        "colab": {
          "base_uri": "https://localhost:8080/"
        },
        "id": "fL2FalD1QJbl",
        "outputId": "a07e8ba1-c93b-4862-b730-853ab6ac04c9"
      },
      "outputs": [
        {
          "data": {
            "text/plain": [
              "0    516\n",
              "1    172\n",
              "Name: pcr_test_result_inferred, dtype: int64"
            ]
          },
          "execution_count": 10,
          "metadata": {},
          "output_type": "execute_result"
        }
      ],
      "source": [
        "val_data['pcr_test_result_inferred'].value_counts()"
      ],
      "id": "fL2FalD1QJbl"
    },
    {
      "cell_type": "markdown",
      "metadata": {
        "id": "I5RSe1xVloVv"
      },
      "source": [
        "A typical audio sample from the data is as follows."
      ],
      "id": "I5RSe1xVloVv"
    },
    {
      "cell_type": "code",
      "execution_count": null,
      "metadata": {
        "colab": {
          "base_uri": "https://localhost:8080/",
          "height": 146
        },
        "id": "20d45a6c",
        "outputId": "6375ac66-da43-45b3-84d5-0c2bb238615f"
      },
      "outputs": [
        {
          "name": "stdout",
          "output_type": "stream",
          "text": [
            "source                                                               coughvid\n",
            "audio_path                  virufy-cdf-coughvid/00e0a33c-6561-406e-b543-4c...\n",
            "pcr_test_result_inferred                                                    1\n",
            "Name: 16, dtype: object\n"
          ]
        },
        {
          "data": {
            "text/html": [
              "\n",
              "                <audio  controls=\"controls\" autoplay=\"autoplay\">\n",
              "                    <source src=\"data:audio/flac;base64,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\" type=\"audio/flac\" />\n",
              "                    Your browser does not support the audio element.\n",
              "                </audio>\n",
              "              "
            ],
            "text/plain": [
              "<IPython.lib.display.Audio object>"
            ]
          },
          "execution_count": 11,
          "metadata": {},
          "output_type": "execute_result"
        }
      ],
      "source": [
        "# Display the first data.\n",
        "\n",
        "import IPython.display as ipd\n",
        "id = 0\n",
        "print(train_data.iloc[id])\n",
        "data_var = '/content/drive/My Drive/capstone_data/data/' + train_data.iloc[id][\"audio_path\"]\n",
        "ipd.Audio(data=data_var, autoplay=True, rate=44100)\n",
        "# Sample rate = 16000"
      ],
      "id": "20d45a6c"
    },
    {
      "cell_type": "markdown",
      "metadata": {
        "id": "e875278a"
      },
      "source": [
        "### 2.2 Tokenization"
      ],
      "id": "e875278a"
    },
    {
      "cell_type": "markdown",
      "metadata": {
        "id": "rttAZ_g1mAb3"
      },
      "source": [
        "Perform feature extraction from these audio samples using Wav2Vec2. Wav2Vec2 is a speech model that accepts a float array corresponding to the raw waveform of the speech signal."
      ],
      "id": "rttAZ_g1mAb3"
    },
    {
      "cell_type": "code",
      "execution_count": null,
      "metadata": {
        "colab": {
          "background_save": true,
          "base_uri": "https://localhost:8080/",
          "height": 17,
          "referenced_widgets": [
            "2b58d634c65146f68bd9141bae879088",
            "f3a26314bc974c6ab2d702241572b805",
            "d6d578cfd0e84f8d94eed095a967a9b5",
            "aaec2a65f45d48fb8ce3414a944cfb8b",
            "7a5351ce25324755b3f74fc2144caa6d",
            "66f20de63de041508789d2a35661355e",
            "a6280cf3318d4f359cfe928de4585f03",
            "487d1b08a16b4f53a3e458e72fe278b5",
            "96b878d925ea47e39c1f18d795028b9c",
            "1a235569e339427fa0ea7e24cc206d2b",
            "640a1e08f28b460c9777f3b380fd049b",
            "f1609c9587d941d490e29babce1fac6b",
            "35ac9c8209994ef5ab98b9d581a7e950",
            "97ba7bb22ae54421bd46384cba84c4bb",
            "425223a431bd45d495424f2dd0c04c45",
            "be4019cc89de4a27850a0fdf1c4bde21",
            "09f9ea7885074f7081b1dc294effa48e",
            "997151139e7d48658a31dc784fb9ba4a",
            "22bdb200e1ff4c17b39e4ee960201b05",
            "81d704b317c4402fa45eb60a103d20a0",
            "20b9c7fd0b534ca5821cc578c7180af5",
            "6ca776f203fa46ac9cd0c1aa02b34a19"
          ]
        },
        "id": "14a6a4a2",
        "outputId": "d4bbb646-864b-40ef-91f4-acb1384fa77c"
      },
      "outputs": [
        {
          "data": {
            "application/vnd.jupyter.widget-view+json": {
              "model_id": "2b58d634c65146f68bd9141bae879088",
              "version_major": 2,
              "version_minor": 0
            },
            "text/plain": [
              "Map:   0%|          | 0/3016 [00:00<?, ? examples/s]"
            ]
          },
          "metadata": {},
          "output_type": "display_data"
        },
        {
          "data": {
            "application/vnd.jupyter.widget-view+json": {
              "model_id": "f1609c9587d941d490e29babce1fac6b",
              "version_major": 2,
              "version_minor": 0
            },
            "text/plain": [
              "Map:   0%|          | 0/688 [00:00<?, ? examples/s]"
            ]
          },
          "metadata": {},
          "output_type": "display_data"
        }
      ],
      "source": [
        "from transformers import Wav2Vec2FeatureExtractor\n",
        "from datasets import Dataset\n",
        "import librosa\n",
        "\n",
        "def map_to_array(df):\n",
        "    cough, _ = librosa.load('/content/drive/My Drive/capstone_data/data/' + df[\"audio_path\"], \n",
        "                            sr=16000, mono=True)\n",
        "    df[\"cough\"] = cough\n",
        "    return df\n",
        "\n",
        "train_data_dataset = Dataset.from_pandas(train_data).map(map_to_array)\n",
        "val_data_dataset = Dataset.from_pandas(val_data).map(map_to_array)\n",
        "\n",
        "feature_extractor = Wav2Vec2FeatureExtractor.from_pretrained(\"superb/hubert-large-superb-er\")\n",
        "\n",
        "train_encodings = feature_extractor(list(train_data_dataset[\"cough\"]), sampling_rate=16000, padding=True, return_tensors=\"pt\")\n",
        "val_encodings = feature_extractor(list(val_data_dataset[\"cough\"]), sampling_rate=16000, padding=True, return_tensors=\"pt\")\n",
        "# Value Error for using any other sampling rate"
      ],
      "id": "14a6a4a2"
    },
    {
      "cell_type": "markdown",
      "metadata": {
        "id": "X7qobnN7mdvP"
      },
      "source": [
        "We have now encoded our training and validation data in a suitable format for HuBERT."
      ],
      "id": "X7qobnN7mdvP"
    },
    {
      "cell_type": "markdown",
      "metadata": {
        "id": "841f475e"
      },
      "source": [
        "### 2.3 Turn data into a Dataset object"
      ],
      "id": "841f475e"
    },
    {
      "cell_type": "markdown",
      "metadata": {
        "id": "toX8v99Wmp0J"
      },
      "source": [
        "Code for processing data samples can get messy and hard to maintain; we ideally want our dataset code to be decoupled from our model training code for better readability and modularity. The PyTorch Dataset module stores the samples and their corresponding labels to enable easier access to data."
      ],
      "id": "toX8v99Wmp0J"
    },
    {
      "cell_type": "code",
      "execution_count": null,
      "metadata": {
        "id": "58940eea"
      },
      "outputs": [],
      "source": [
        "class CoughDataset(torch.utils.data.Dataset):\n",
        "    def __init__(self, encodings, labels):\n",
        "        self.encodings = encodings\n",
        "        self.labels = labels\n",
        "\n",
        "    def __getitem__(self, idx):\n",
        "        item = {key: val[idx] for key, val in self.encodings.items()}\n",
        "        item['labels'] = torch.tensor(self.labels[idx])\n",
        "        return item\n",
        "\n",
        "    def __len__(self):\n",
        "        return len(self.labels)\n",
        "    \n",
        "\n",
        "train_dataset = CoughDataset(train_encodings, list(train_data[\"pcr_test_result_inferred\"]))\n",
        "val_dataset = CoughDataset(val_encodings, list(val_data[\"pcr_test_result_inferred\"]))"
      ],
      "id": "58940eea"
    },
    {
      "cell_type": "markdown",
      "metadata": {
        "id": "5d488d08"
      },
      "source": [
        "## 3. Loading the Model and Optimizer "
      ],
      "id": "5d488d08"
    },
    {
      "cell_type": "markdown",
      "metadata": {
        "id": "JD0aEnt3nTRY"
      },
      "source": [],
      "id": "JD0aEnt3nTRY"
    },
    {
      "cell_type": "code",
      "execution_count": null,
      "metadata": {
        "colab": {
          "base_uri": "https://localhost:8080/",
          "height": 81,
          "referenced_widgets": [
            "3dc1e9c4ae43438ab51fc3cd7172d3d4",
            "5e8e6340689a4bddb3e9e72d4c5f337c",
            "455d1b0a7260490aadbb2e4f26d85484",
            "2f817e2377924fb2aac9b9edc0a937aa",
            "2df1815f38b546b288b889092e6fb763",
            "79fbc05c5bbe46bfb8dd7ac5f2ac7c06",
            "9ad3e97f271c48a79d2887938a015096",
            "4f99bf6587114daa8f6a0c172b61d892",
            "51fcfe31440842248a57ce0640b5ec57",
            "687a8defb7e040ae8903f39611fa5b5a",
            "b1cfd295989740f3abb4cb9c13e927ee",
            "729abe3215b54ae7b51ae5df810576d5",
            "b85fcd78594d423f92316666eac06db8",
            "be78496a5b17404d873a3da3e76722cf",
            "9ecfd2cfc8374ce98e4c8484d5a6564e",
            "b1cc3170cbbf4d0386a65fb0f580fd2d",
            "2ed051b3f3b345dd82d80b4e54d9e215",
            "ea299dc4750645cb9c2a3f6def3901fc",
            "09f5c422e6f44de985c8c818aea0deb6",
            "24d8fd598e1a49abb8ba790b7636c31a",
            "fa9637ab6e68422dbabc38bde38ff31d",
            "c1aa9a7624c747f99a6f926d0c2f7738"
          ]
        },
        "id": "f49c7a8b",
        "outputId": "d62719ee-db5d-43b9-8d64-006afe30289d"
      },
      "outputs": [
        {
          "data": {
            "application/vnd.jupyter.widget-view+json": {
              "model_id": "3dc1e9c4ae43438ab51fc3cd7172d3d4",
              "version_major": 2,
              "version_minor": 0
            },
            "text/plain": [
              "Downloading (…)lve/main/config.json:   0%|          | 0.00/1.83k [00:00<?, ?B/s]"
            ]
          },
          "metadata": {},
          "output_type": "display_data"
        },
        {
          "data": {
            "application/vnd.jupyter.widget-view+json": {
              "model_id": "729abe3215b54ae7b51ae5df810576d5",
              "version_major": 2,
              "version_minor": 0
            },
            "text/plain": [
              "Downloading (…)\"pytorch_model.bin\";:   0%|          | 0.00/1.26G [00:00<?, ?B/s]"
            ]
          },
          "metadata": {},
          "output_type": "display_data"
        }
      ],
      "source": [
        "from transformers import HubertForSequenceClassification\n",
        "from torch.optim import AdamW\n",
        "\n",
        "# Loading the model\n",
        "model = HubertForSequenceClassification.from_pretrained(\"superb/hubert-large-superb-er\")\n",
        "model.to(device)\n",
        "\n",
        "# Loading the optimizer\n",
        "optim = AdamW(model.parameters(), lr=1e-5)"
      ],
      "id": "f49c7a8b"
    },
    {
      "cell_type": "markdown",
      "metadata": {
        "id": "af01faa9"
      },
      "source": [
        "## 4. Training"
      ],
      "id": "af01faa9"
    },
    {
      "cell_type": "markdown",
      "metadata": {
        "id": "ae918bea"
      },
      "source": [
        "Prepare some utility functions."
      ],
      "id": "ae918bea"
    },
    {
      "cell_type": "code",
      "execution_count": null,
      "metadata": {
        "id": "efabfb4a"
      },
      "outputs": [],
      "source": [
        "# Prediction function\n",
        "def predict(outputs):\n",
        "    probabilities = torch.softmax(outputs[\"logits\"], dim=1)\n",
        "    predictions = torch.argmax(probabilities, dim=1)\n",
        "    return predictions"
      ],
      "id": "efabfb4a"
    },
    {
      "cell_type": "markdown",
      "metadata": {
        "id": "ea8c6e68"
      },
      "source": [
        "Train the model."
      ],
      "id": "ea8c6e68"
    },
    {
      "cell_type": "code",
      "execution_count": null,
      "metadata": {
        "id": "AqnerSzBQULS"
      },
      "outputs": [],
      "source": [
        "torch.cuda.empty_cache()"
      ],
      "id": "AqnerSzBQULS"
    },
    {
      "cell_type": "code",
      "execution_count": null,
      "metadata": {
        "colab": {
          "base_uri": "https://localhost:8080/"
        },
        "id": "026f2f04",
        "outputId": "3ebd8a31-e844-4b50-e651-63c52439d06a",
        "scrolled": true
      },
      "outputs": [
        {
          "name": "stdout",
          "output_type": "stream",
          "text": [
            "Epoch 1/17\n",
            "Train:\n"
          ]
        },
        {
          "name": "stderr",
          "output_type": "stream",
          "text": [
            "100%|██████████| 1508/1508 [08:55<00:00,  2.81it/s, Loss=0.097, Accuracy=0.674]\n"
          ]
        },
        {
          "name": "stdout",
          "output_type": "stream",
          "text": [
            "Validate:\n"
          ]
        },
        {
          "name": "stderr",
          "output_type": "stream",
          "text": [
            "100%|██████████| 688/688 [01:15<00:00,  9.06it/s, loss=0.017, accuracy=0.749]\n"
          ]
        },
        {
          "name": "stdout",
          "output_type": "stream",
          "text": [
            "\n",
            "Epoch 2/17\n",
            "Train:\n"
          ]
        },
        {
          "name": "stderr",
          "output_type": "stream",
          "text": [
            "100%|██████████| 1508/1508 [08:48<00:00,  2.85it/s, Loss=0.071, Accuracy=0.718]\n"
          ]
        },
        {
          "name": "stdout",
          "output_type": "stream",
          "text": [
            "Validate:\n"
          ]
        },
        {
          "name": "stderr",
          "output_type": "stream",
          "text": [
            "100%|██████████| 688/688 [01:15<00:00,  9.08it/s, loss=0.017, accuracy=0.750]\n"
          ]
        },
        {
          "name": "stdout",
          "output_type": "stream",
          "text": [
            "\n",
            "Epoch 3/17\n",
            "Train:\n"
          ]
        },
        {
          "name": "stderr",
          "output_type": "stream",
          "text": [
            "100%|██████████| 1508/1508 [08:50<00:00,  2.84it/s, Loss=0.278, Accuracy=0.729]\n"
          ]
        },
        {
          "name": "stdout",
          "output_type": "stream",
          "text": [
            "Validate:\n"
          ]
        },
        {
          "name": "stderr",
          "output_type": "stream",
          "text": [
            "100%|██████████| 688/688 [01:15<00:00,  9.08it/s, loss=0.077, accuracy=0.753]\n"
          ]
        },
        {
          "name": "stdout",
          "output_type": "stream",
          "text": [
            "\n",
            "Epoch 4/17\n",
            "Train:\n"
          ]
        },
        {
          "name": "stderr",
          "output_type": "stream",
          "text": [
            "100%|██████████| 1508/1508 [08:50<00:00,  2.84it/s, Loss=0.185, Accuracy=0.723]\n"
          ]
        },
        {
          "name": "stdout",
          "output_type": "stream",
          "text": [
            "Validate:\n"
          ]
        },
        {
          "name": "stderr",
          "output_type": "stream",
          "text": [
            "100%|██████████| 688/688 [01:15<00:00,  9.07it/s, loss=0.094, accuracy=0.765]\n"
          ]
        },
        {
          "name": "stdout",
          "output_type": "stream",
          "text": [
            "\n",
            "Epoch 5/17\n",
            "Train:\n"
          ]
        },
        {
          "name": "stderr",
          "output_type": "stream",
          "text": [
            "100%|██████████| 1508/1508 [08:50<00:00,  2.84it/s, Loss=1.109, Accuracy=0.736]\n"
          ]
        },
        {
          "name": "stdout",
          "output_type": "stream",
          "text": [
            "Validate:\n"
          ]
        },
        {
          "name": "stderr",
          "output_type": "stream",
          "text": [
            "100%|██████████| 688/688 [01:16<00:00,  9.05it/s, loss=0.087, accuracy=0.763]\n"
          ]
        },
        {
          "name": "stdout",
          "output_type": "stream",
          "text": [
            "\n",
            "Epoch 6/17\n",
            "Train:\n"
          ]
        },
        {
          "name": "stderr",
          "output_type": "stream",
          "text": [
            "100%|██████████| 1508/1508 [08:50<00:00,  2.84it/s, Loss=0.251, Accuracy=0.750]\n"
          ]
        },
        {
          "name": "stdout",
          "output_type": "stream",
          "text": [
            "Validate:\n"
          ]
        },
        {
          "name": "stderr",
          "output_type": "stream",
          "text": [
            "100%|██████████| 688/688 [01:16<00:00,  9.05it/s, loss=0.146, accuracy=0.779]\n"
          ]
        },
        {
          "name": "stdout",
          "output_type": "stream",
          "text": [
            "\n",
            "Epoch 7/17\n",
            "Train:\n"
          ]
        },
        {
          "name": "stderr",
          "output_type": "stream",
          "text": [
            "100%|██████████| 1508/1508 [08:50<00:00,  2.84it/s, Loss=0.264, Accuracy=0.751]\n"
          ]
        },
        {
          "name": "stdout",
          "output_type": "stream",
          "text": [
            "Validate:\n"
          ]
        },
        {
          "name": "stderr",
          "output_type": "stream",
          "text": [
            "100%|██████████| 688/688 [01:15<00:00,  9.06it/s, loss=0.032, accuracy=0.770]\n"
          ]
        },
        {
          "name": "stdout",
          "output_type": "stream",
          "text": [
            "\n",
            "Epoch 8/17\n",
            "Train:\n"
          ]
        },
        {
          "name": "stderr",
          "output_type": "stream",
          "text": [
            "100%|██████████| 1508/1508 [08:49<00:00,  2.85it/s, Loss=0.271, Accuracy=0.751]\n"
          ]
        },
        {
          "name": "stdout",
          "output_type": "stream",
          "text": [
            "Validate:\n"
          ]
        },
        {
          "name": "stderr",
          "output_type": "stream",
          "text": [
            "100%|██████████| 688/688 [01:15<00:00,  9.08it/s, loss=0.100, accuracy=0.756]\n"
          ]
        },
        {
          "name": "stdout",
          "output_type": "stream",
          "text": [
            "\n",
            "Epoch 9/17\n",
            "Train:\n"
          ]
        },
        {
          "name": "stderr",
          "output_type": "stream",
          "text": [
            "100%|██████████| 1508/1508 [08:50<00:00,  2.84it/s, Loss=0.085, Accuracy=0.763]\n"
          ]
        },
        {
          "name": "stdout",
          "output_type": "stream",
          "text": [
            "Validate:\n"
          ]
        },
        {
          "name": "stderr",
          "output_type": "stream",
          "text": [
            "100%|██████████| 688/688 [01:15<00:00,  9.07it/s, loss=0.048, accuracy=0.770]\n"
          ]
        },
        {
          "name": "stdout",
          "output_type": "stream",
          "text": [
            "\n",
            "Epoch 10/17\n",
            "Train:\n"
          ]
        },
        {
          "name": "stderr",
          "output_type": "stream",
          "text": [
            "100%|██████████| 1508/1508 [08:50<00:00,  2.84it/s, Loss=1.675, Accuracy=0.769]\n"
          ]
        },
        {
          "name": "stdout",
          "output_type": "stream",
          "text": [
            "Validate:\n"
          ]
        },
        {
          "name": "stderr",
          "output_type": "stream",
          "text": [
            "100%|██████████| 688/688 [01:15<00:00,  9.07it/s, loss=0.018, accuracy=0.769]\n"
          ]
        },
        {
          "name": "stdout",
          "output_type": "stream",
          "text": [
            "\n",
            "Epoch 11/17\n",
            "Train:\n"
          ]
        },
        {
          "name": "stderr",
          "output_type": "stream",
          "text": [
            "100%|██████████| 1508/1508 [08:50<00:00,  2.84it/s, Loss=0.211, Accuracy=0.775]\n"
          ]
        },
        {
          "name": "stdout",
          "output_type": "stream",
          "text": [
            "Validate:\n"
          ]
        },
        {
          "name": "stderr",
          "output_type": "stream",
          "text": [
            "100%|██████████| 688/688 [01:15<00:00,  9.07it/s, loss=0.193, accuracy=0.751]\n"
          ]
        },
        {
          "name": "stdout",
          "output_type": "stream",
          "text": [
            "\n",
            "Epoch 12/17\n",
            "Train:\n"
          ]
        },
        {
          "name": "stderr",
          "output_type": "stream",
          "text": [
            "100%|██████████| 1508/1508 [08:50<00:00,  2.85it/s, Loss=0.420, Accuracy=0.777]\n"
          ]
        },
        {
          "name": "stdout",
          "output_type": "stream",
          "text": [
            "Validate:\n"
          ]
        },
        {
          "name": "stderr",
          "output_type": "stream",
          "text": [
            "100%|██████████| 688/688 [01:15<00:00,  9.08it/s, loss=0.035, accuracy=0.773]\n"
          ]
        },
        {
          "name": "stdout",
          "output_type": "stream",
          "text": [
            "\n",
            "Epoch 13/17\n",
            "Train:\n"
          ]
        },
        {
          "name": "stderr",
          "output_type": "stream",
          "text": [
            "100%|██████████| 1508/1508 [08:50<00:00,  2.84it/s, Loss=0.422, Accuracy=0.783]\n"
          ]
        },
        {
          "name": "stdout",
          "output_type": "stream",
          "text": [
            "Validate:\n"
          ]
        },
        {
          "name": "stderr",
          "output_type": "stream",
          "text": [
            "100%|██████████| 688/688 [01:15<00:00,  9.09it/s, loss=0.057, accuracy=0.775]\n"
          ]
        },
        {
          "name": "stdout",
          "output_type": "stream",
          "text": [
            "\n",
            "Epoch 14/17\n",
            "Train:\n"
          ]
        },
        {
          "name": "stderr",
          "output_type": "stream",
          "text": [
            "100%|██████████| 1508/1508 [08:49<00:00,  2.85it/s, Loss=0.417, Accuracy=0.779]\n"
          ]
        },
        {
          "name": "stdout",
          "output_type": "stream",
          "text": [
            "Validate:\n"
          ]
        },
        {
          "name": "stderr",
          "output_type": "stream",
          "text": [
            "100%|██████████| 688/688 [01:15<00:00,  9.08it/s, loss=0.104, accuracy=0.791]\n"
          ]
        },
        {
          "name": "stdout",
          "output_type": "stream",
          "text": [
            "\n",
            "Epoch 15/17\n",
            "Train:\n"
          ]
        },
        {
          "name": "stderr",
          "output_type": "stream",
          "text": [
            "100%|██████████| 1508/1508 [08:50<00:00,  2.84it/s, Loss=0.125, Accuracy=0.793]\n"
          ]
        },
        {
          "name": "stdout",
          "output_type": "stream",
          "text": [
            "Validate:\n"
          ]
        },
        {
          "name": "stderr",
          "output_type": "stream",
          "text": [
            "100%|██████████| 688/688 [01:15<00:00,  9.07it/s, loss=0.068, accuracy=0.789]\n"
          ]
        },
        {
          "name": "stdout",
          "output_type": "stream",
          "text": [
            "\n",
            "Epoch 16/17\n",
            "Train:\n"
          ]
        },
        {
          "name": "stderr",
          "output_type": "stream",
          "text": [
            "100%|██████████| 1508/1508 [08:49<00:00,  2.85it/s, Loss=0.072, Accuracy=0.801]\n"
          ]
        },
        {
          "name": "stdout",
          "output_type": "stream",
          "text": [
            "Validate:\n"
          ]
        },
        {
          "name": "stderr",
          "output_type": "stream",
          "text": [
            "100%|██████████| 688/688 [01:15<00:00,  9.05it/s, loss=0.049, accuracy=0.788]\n"
          ]
        },
        {
          "name": "stdout",
          "output_type": "stream",
          "text": [
            "\n",
            "Epoch 17/17\n",
            "Train:\n"
          ]
        },
        {
          "name": "stderr",
          "output_type": "stream",
          "text": [
            "100%|██████████| 1508/1508 [08:50<00:00,  2.84it/s, Loss=1.622, Accuracy=0.809]\n"
          ]
        },
        {
          "name": "stdout",
          "output_type": "stream",
          "text": [
            "Validate:\n"
          ]
        },
        {
          "name": "stderr",
          "output_type": "stream",
          "text": [
            "100%|██████████| 688/688 [01:15<00:00,  9.06it/s, loss=0.017, accuracy=0.782]"
          ]
        },
        {
          "name": "stdout",
          "output_type": "stream",
          "text": [
            "\n"
          ]
        },
        {
          "name": "stderr",
          "output_type": "stream",
          "text": [
            "\n"
          ]
        }
      ],
      "source": [
        "# Training + Val\n",
        "\n",
        "# Set the number of epoch\n",
        "epoch = 17\n",
        "\n",
        "train_loss = list()\n",
        "val_loss = list()\n",
        "train_accuracies = list()\n",
        "val_accuracies = list()\n",
        "\n",
        "for epoch_i in range(epoch):\n",
        "    print('Epoch %s/%s' % (epoch_i + 1, epoch))\n",
        "    time.sleep(0.3)\n",
        "    # Start training\n",
        "    model.train()\n",
        "\n",
        "    # Get training data by DataLoader\n",
        "    train_loader = DataLoader(train_dataset, batch_size=2, shuffle=True)\n",
        "    # Get test data by DataLoader\n",
        "    test_loader = DataLoader(val_dataset, batch_size=1, shuffle=False)\n",
        "    \n",
        "    correct = 0\n",
        "    count = 0\n",
        "    epoch_loss = list()\n",
        "    \n",
        "    print('Train:')\n",
        "    pbar = tqdm(train_loader)\n",
        "    for batch in pbar:\n",
        "        optim.zero_grad()\n",
        "        input_ids = batch['input_values'].to(device)\n",
        "        attention_mask = batch['attention_mask'].to(device)\n",
        "        labels = batch['labels'].to(device)\n",
        "        outputs = model(input_ids, attention_mask=attention_mask, labels=labels)\n",
        "        loss = outputs['loss']\n",
        "        loss.backward()\n",
        "        optim.step()\n",
        "        \n",
        "        # make predictions\n",
        "        predictions = predict(outputs)\n",
        "\n",
        "        # count accuracy\n",
        "        correct += predictions.eq(labels).sum().item()\n",
        "        count += len(labels)\n",
        "        accuracy = correct * 1.0 / count\n",
        "\n",
        "        # show progress along with metrics\n",
        "        pbar.set_postfix({\n",
        "            'Loss': '{:.3f}'.format(loss.item()),\n",
        "            'Accuracy': '{:.3f}'.format(accuracy)\n",
        "        })\n",
        "        \n",
        "        # record the loss for each batch\n",
        "        epoch_loss.append(loss.item())    \n",
        "    pbar.close()\n",
        "    \n",
        "    # record the loss and accuracy for each epoch\n",
        "    # train_loss += epoch_loss\n",
        "    train_loss.append(sum(epoch_loss))\n",
        "    train_accuracies.append(accuracy)\n",
        "    model.save_pretrained('/content/drive/My Drive/capstone_nobel/model/')\n",
        "\n",
        "    # Start validation\n",
        "    model.eval()\n",
        "\n",
        "    with torch.no_grad():\n",
        "    \n",
        "        correct = 0\n",
        "        count = 0\n",
        "        epoch_loss = list()\n",
        "        record = {\"labels\":list(), \"predictions\":list()}\n",
        "        \n",
        "        print('Validate:') \n",
        "        pbar = tqdm(test_loader)\n",
        "        for batch in pbar:\n",
        "            input_ids = batch['input_values'].to(device)\n",
        "            attention_mask = batch['attention_mask'].to(device)\n",
        "            labels = batch['labels'].to(device)\n",
        "            outputs = model(input_ids, attention_mask=attention_mask, labels=labels)\n",
        "            loss = outputs['loss']\n",
        "            \n",
        "            # make predictions\n",
        "            predictions = predict(outputs)\n",
        "\n",
        "            # count accuracy\n",
        "            correct += predictions.eq(labels).sum().item()\n",
        "            count += len(labels)\n",
        "            accuracy = correct * 1.0 / count\n",
        "\n",
        "\n",
        "            # show progress along with metrics\n",
        "            pbar.set_postfix({\n",
        "                'loss': '{:.3f}'.format(loss.item()),\n",
        "                'accuracy': '{:.3f}'.format(accuracy)\n",
        "            })\n",
        "        \n",
        "            # record the results\n",
        "            record[\"labels\"] += labels.cpu().numpy().tolist()\n",
        "            record[\"predictions\"] += predictions.cpu().numpy().tolist()\n",
        "\n",
        "            # record the loss for each batch\n",
        "            epoch_loss.append(loss.item())      \n",
        "    pbar.close()\n",
        "\n",
        "    # record the loss and accuracy for each epoch\n",
        "    # val_loss += epoch_loss\n",
        "    val_loss.append(sum(epoch_loss))\n",
        "    val_accuracies.append(accuracy)\n",
        "    print('')"
      ],
      "id": "026f2f04"
    },
    {
      "cell_type": "markdown",
      "metadata": {
        "id": "4990976d"
      },
      "source": [
        "Visualise the training loss and accuracy."
      ],
      "id": "4990976d"
    },
    {
      "cell_type": "code",
      "execution_count": null,
      "metadata": {
        "colab": {
          "base_uri": "https://localhost:8080/",
          "height": 1000
        },
        "id": "02fb7bbb",
        "outputId": "34c1ed6f-946d-4635-f3a5-5843b1386f14"
      },
      "outputs": [
        {
          "data": {
            "image/png": "[encoded data removed]",
            "text/plain": [
              "<Figure size 432x288 with 1 Axes>"
            ]
          },
          "metadata": {},
          "output_type": "display_data"
        },
        {
          "data": {
            "image/png": "[encoded data removed]",
            "text/plain": [
              "<Figure size 432x288 with 1 Axes>"
            ]
          },
          "metadata": {},
          "output_type": "display_data"
        },
        {
          "data": {
            "image/png": "[encoded data removed]",
            "text/plain": [
              "<Figure size 432x288 with 1 Axes>"
            ]
          },
          "metadata": {},
          "output_type": "display_data"
        },
        {
          "data": {
            "image/png": "[encoded data removed]",
            "text/plain": [
              "<Figure size 432x288 with 1 Axes>"
            ]
          },
          "metadata": {},
          "output_type": "display_data"
        }
      ],
      "source": [
        "# Plot Iteration vs train Loss\n",
        "plt.plot(train_loss, label=\"Training Loss\")\n",
        "plt.xlabel(\"Iteration\")\n",
        "plt.ylabel(\"Loss\")\n",
        "plt.title(\"Iteration vs Training Loss\")  \n",
        "plt.legend()\n",
        "plt.show()\n",
        "\n",
        "# Plot Epoch vs train Accuracy\n",
        "acc_X = np.arange(len(train_accuracies))+1                          \n",
        "plt.plot(acc_X, train_accuracies,\"-\", label=\"Training Accuracy\")\n",
        "plt.xticks(acc_X)\n",
        "plt.xlabel(\"Epoch\")\n",
        "plt.ylabel(\"Accuracy\")\n",
        "plt.title(\"Epoch vs Training Accuracy\")  \n",
        "plt.legend()\n",
        "plt.show()\n",
        "\n",
        "# Plot Iteration vs Validate Loss\n",
        "plt.plot(val_loss, label=\"Validation Loss\")\n",
        "plt.xlabel(\"Iteration\")\n",
        "plt.ylabel(\"Loss\")\n",
        "plt.title(\"Iteration vs Validation Loss\")  \n",
        "plt.legend()\n",
        "plt.show()\n",
        "\n",
        "# Plot Epoch vs Validation Accuracy\n",
        "acc_X = np.arange(len(val_accuracies))+1                          \n",
        "plt.plot(acc_X, val_accuracies,\"-\", label=\"Validation Accuracy\")\n",
        "plt.xticks(acc_X)\n",
        "plt.xlabel(\"Epoch\")\n",
        "plt.ylabel(\"Accuracy\")\n",
        "plt.title(\"Epoch vs Validation Accuracy\")  \n",
        "plt.legend()\n",
        "plt.show()"
      ],
      "id": "02fb7bbb"
    },
    {
      "cell_type": "markdown",
      "metadata": {
        "id": "75c4c928"
      },
      "source": [
        "## 5. Validation"
      ],
      "id": "75c4c928"
    },
    {
      "cell_type": "markdown",
      "metadata": {
        "id": "cded6400"
      },
      "source": [
        "Validate the model."
      ],
      "id": "cded6400"
    },
    {
      "cell_type": "code",
      "execution_count": null,
      "metadata": {
        "colab": {
          "base_uri": "https://localhost:8080/"
        },
        "id": "LvTdmd5xwYl9",
        "outputId": "23735262-c2ad-4602-dde0-2f85b394ce31"
      },
      "outputs": [
        {
          "data": {
            "text/plain": [
              "<All keys matched successfully>"
            ]
          },
          "execution_count": 18,
          "metadata": {},
          "output_type": "execute_result"
        }
      ],
      "source": [
        "model.load_state_dict(torch.load('/content/drive/My Drive/capstone_nobel/model/pytorch_model.bin'))"
      ],
      "id": "LvTdmd5xwYl9"
    },
    {
      "cell_type": "markdown",
      "metadata": {
        "id": "ee0a4cba"
      },
      "source": [
        "Check the result."
      ],
      "id": "ee0a4cba"
    },
    {
      "cell_type": "code",
      "execution_count": null,
      "metadata": {
        "colab": {
          "base_uri": "https://localhost:8080/",
          "height": 659
        },
        "id": "c4f97e7b",
        "outputId": "fc17bdd4-562d-48f1-ee0e-e463cdb03aa0"
      },
      "outputs": [
        {
          "data": {
            "text/html": [
              "\n",
              "  <div id=\"df-bc5e4779-36b7-4d97-baca-169cc930088a\">\n",
              "    <div class=\"colab-df-container\">\n",
              "      <div>\n",
              "<style scoped>\n",
              "    .dataframe tbody tr th:only-of-type {\n",
              "        vertical-align: middle;\n",
              "    }\n",
              "\n",
              "    .dataframe tbody tr th {\n",
              "        vertical-align: top;\n",
              "    }\n",
              "\n",
              "    .dataframe thead th {\n",
              "        text-align: right;\n",
              "    }\n",
              "</style>\n",
              "<table border=\"1\" class=\"dataframe\">\n",
              "  <thead>\n",
              "    <tr style=\"text-align: right;\">\n",
              "      <th></th>\n",
              "      <th>index</th>\n",
              "      <th>source</th>\n",
              "      <th>audio_path</th>\n",
              "      <th>pcr_test_result_inferred</th>\n",
              "      <th>Model Prediction</th>\n",
              "    </tr>\n",
              "  </thead>\n",
              "  <tbody>\n",
              "    <tr>\n",
              "      <th>0</th>\n",
              "      <td>47</td>\n",
              "      <td>coughvid</td>\n",
              "      <td>virufy-cdf-coughvid/06b58ff7-42e9-49d8-8b56-dd...</td>\n",
              "      <td>1</td>\n",
              "      <td>0</td>\n",
              "    </tr>\n",
              "    <tr>\n",
              "      <th>1</th>\n",
              "      <td>62</td>\n",
              "      <td>coughvid</td>\n",
              "      <td>virufy-cdf-coughvid/099f9c59-3206-438d-8fd5-be...</td>\n",
              "      <td>1</td>\n",
              "      <td>0</td>\n",
              "    </tr>\n",
              "    <tr>\n",
              "      <th>2</th>\n",
              "      <td>113</td>\n",
              "      <td>coughvid</td>\n",
              "      <td>virufy-cdf-coughvid/12121877-e33a-4cba-b63b-00...</td>\n",
              "      <td>1</td>\n",
              "      <td>0</td>\n",
              "    </tr>\n",
              "    <tr>\n",
              "      <th>3</th>\n",
              "      <td>117</td>\n",
              "      <td>coughvid</td>\n",
              "      <td>virufy-cdf-coughvid/126b940c-b6c6-4d3d-adc2-92...</td>\n",
              "      <td>1</td>\n",
              "      <td>0</td>\n",
              "    </tr>\n",
              "    <tr>\n",
              "      <th>4</th>\n",
              "      <td>141</td>\n",
              "      <td>coughvid</td>\n",
              "      <td>virufy-cdf-coughvid/178f39e2-a261-4ec6-a8fb-3f...</td>\n",
              "      <td>1</td>\n",
              "      <td>0</td>\n",
              "    </tr>\n",
              "    <tr>\n",
              "      <th>...</th>\n",
              "      <td>...</td>\n",
              "      <td>...</td>\n",
              "      <td>...</td>\n",
              "      <td>...</td>\n",
              "      <td>...</td>\n",
              "    </tr>\n",
              "    <tr>\n",
              "      <th>362</th>\n",
              "      <td>940</td>\n",
              "      <td>coughvid</td>\n",
              "      <td>virufy-cdf-coughvid/a7e79300-5932-450d-8696-79...</td>\n",
              "      <td>0</td>\n",
              "      <td>1</td>\n",
              "    </tr>\n",
              "    <tr>\n",
              "      <th>378</th>\n",
              "      <td>1566</td>\n",
              "      <td>coswara</td>\n",
              "      <td>virufy-cdf-coswara/20200417/fuZ1Iu9k84gcTbZKIW...</td>\n",
              "      <td>0</td>\n",
              "      <td>1</td>\n",
              "    </tr>\n",
              "    <tr>\n",
              "      <th>425</th>\n",
              "      <td>1708</td>\n",
              "      <td>coswara</td>\n",
              "      <td>virufy-cdf-coswara/20200413/SY4Ekt5W4VZdeIm5r3...</td>\n",
              "      <td>0</td>\n",
              "      <td>1</td>\n",
              "    </tr>\n",
              "    <tr>\n",
              "      <th>476</th>\n",
              "      <td>1642</td>\n",
              "      <td>coswara</td>\n",
              "      <td>virufy-cdf-coswara/20200604/awro2Lz4F9SgVweiUz...</td>\n",
              "      <td>0</td>\n",
              "      <td>1</td>\n",
              "    </tr>\n",
              "    <tr>\n",
              "      <th>685</th>\n",
              "      <td>1335</td>\n",
              "      <td>coughvid</td>\n",
              "      <td>virufy-cdf-coughvid/ec5fe90b-59e1-4947-9f0f-ac...</td>\n",
              "      <td>0</td>\n",
              "      <td>1</td>\n",
              "    </tr>\n",
              "  </tbody>\n",
              "</table>\n",
              "<p>150 rows × 5 columns</p>\n",
              "</div>\n",
              "      <button class=\"colab-df-convert\" onclick=\"convertToInteractive('df-bc5e4779-36b7-4d97-baca-169cc930088a')\"\n",
              "              title=\"Convert this dataframe to an interactive table.\"\n",
              "              style=\"display:none;\">\n",
              "        \n",
              "  <svg xmlns=\"http://www.w3.org/2000/svg\" height=\"24px\"viewBox=\"0 0 24 24\"\n",
              "       width=\"24px\">\n",
              "    <path d=\"M0 0h24v24H0V0z\" fill=\"none\"/>\n",
              "    <path d=\"M18.56 5.44l.94 2.06.94-2.06 2.06-.94-2.06-.94-.94-2.06-.94 2.06-2.06.94zm-11 1L8.5 8.5l.94-2.06 2.06-.94-2.06-.94L8.5 2.5l-.94 2.06-2.06.94zm10 10l.94 2.06.94-2.06 2.06-.94-2.06-.94-.94-2.06-.94 2.06-2.06.94z\"/><path d=\"M17.41 7.96l-1.37-1.37c-.4-.4-.92-.59-1.43-.59-.52 0-1.04.2-1.43.59L10.3 9.45l-7.72 7.72c-.78.78-.78 2.05 0 2.83L4 21.41c.39.39.9.59 1.41.59.51 0 1.02-.2 1.41-.59l7.78-7.78 2.81-2.81c.8-.78.8-2.07 0-2.86zM5.41 20L4 18.59l7.72-7.72 1.47 1.35L5.41 20z\"/>\n",
              "  </svg>\n",
              "      </button>\n",
              "      \n",
              "  <style>\n",
              "    .colab-df-container {\n",
              "      display:flex;\n",
              "      flex-wrap:wrap;\n",
              "      gap: 12px;\n",
              "    }\n",
              "\n",
              "    .colab-df-convert {\n",
              "      background-color: #E8F0FE;\n",
              "      border: none;\n",
              "      border-radius: 50%;\n",
              "      cursor: pointer;\n",
              "      display: none;\n",
              "      fill: #1967D2;\n",
              "      height: 32px;\n",
              "      padding: 0 0 0 0;\n",
              "      width: 32px;\n",
              "    }\n",
              "\n",
              "    .colab-df-convert:hover {\n",
              "      background-color: #E2EBFA;\n",
              "      box-shadow: 0px 1px 2px rgba(60, 64, 67, 0.3), 0px 1px 3px 1px rgba(60, 64, 67, 0.15);\n",
              "      fill: #174EA6;\n",
              "    }\n",
              "\n",
              "    [theme=dark] .colab-df-convert {\n",
              "      background-color: #3B4455;\n",
              "      fill: #D2E3FC;\n",
              "    }\n",
              "\n",
              "    [theme=dark] .colab-df-convert:hover {\n",
              "      background-color: #434B5C;\n",
              "      box-shadow: 0px 1px 3px 1px rgba(0, 0, 0, 0.15);\n",
              "      filter: drop-shadow(0px 1px 2px rgba(0, 0, 0, 0.3));\n",
              "      fill: #FFFFFF;\n",
              "    }\n",
              "  </style>\n",
              "\n",
              "      <script>\n",
              "        const buttonEl =\n",
              "          document.querySelector('#df-bc5e4779-36b7-4d97-baca-169cc930088a button.colab-df-convert');\n",
              "        buttonEl.style.display =\n",
              "          google.colab.kernel.accessAllowed ? 'block' : 'none';\n",
              "\n",
              "        async function convertToInteractive(key) {\n",
              "          const element = document.querySelector('#df-bc5e4779-36b7-4d97-baca-169cc930088a');\n",
              "          const dataTable =\n",
              "            await google.colab.kernel.invokeFunction('convertToInteractive',\n",
              "                                                     [key], {});\n",
              "          if (!dataTable) return;\n",
              "\n",
              "          const docLinkHtml = 'Like what you see? Visit the ' +\n",
              "            '<a target=\"_blank\" href=https://colab.research.google.com/notebooks/data_table.ipynb>data table notebook</a>'\n",
              "            + ' to learn more about interactive tables.';\n",
              "          element.innerHTML = '';\n",
              "          dataTable['output_type'] = 'display_data';\n",
              "          await google.colab.output.renderOutput(dataTable, element);\n",
              "          const docLink = document.createElement('div');\n",
              "          docLink.innerHTML = docLinkHtml;\n",
              "          element.appendChild(docLink);\n",
              "        }\n",
              "      </script>\n",
              "    </div>\n",
              "  </div>\n",
              "  "
            ],
            "text/plain": [
              "     index    source                                         audio_path  \\\n",
              "0       47  coughvid  virufy-cdf-coughvid/06b58ff7-42e9-49d8-8b56-dd...   \n",
              "1       62  coughvid  virufy-cdf-coughvid/099f9c59-3206-438d-8fd5-be...   \n",
              "2      113  coughvid  virufy-cdf-coughvid/12121877-e33a-4cba-b63b-00...   \n",
              "3      117  coughvid  virufy-cdf-coughvid/126b940c-b6c6-4d3d-adc2-92...   \n",
              "4      141  coughvid  virufy-cdf-coughvid/178f39e2-a261-4ec6-a8fb-3f...   \n",
              "..     ...       ...                                                ...   \n",
              "362    940  coughvid  virufy-cdf-coughvid/a7e79300-5932-450d-8696-79...   \n",
              "378   1566   coswara  virufy-cdf-coswara/20200417/fuZ1Iu9k84gcTbZKIW...   \n",
              "425   1708   coswara  virufy-cdf-coswara/20200413/SY4Ekt5W4VZdeIm5r3...   \n",
              "476   1642   coswara  virufy-cdf-coswara/20200604/awro2Lz4F9SgVweiUz...   \n",
              "685   1335  coughvid  virufy-cdf-coughvid/ec5fe90b-59e1-4947-9f0f-ac...   \n",
              "\n",
              "     pcr_test_result_inferred  Model Prediction  \n",
              "0                           1                 0  \n",
              "1                           1                 0  \n",
              "2                           1                 0  \n",
              "3                           1                 0  \n",
              "4                           1                 0  \n",
              "..                        ...               ...  \n",
              "362                         0                 1  \n",
              "378                         0                 1  \n",
              "425                         0                 1  \n",
              "476                         0                 1  \n",
              "685                         0                 1  \n",
              "\n",
              "[150 rows x 5 columns]"
            ]
          },
          "execution_count": 19,
          "metadata": {},
          "output_type": "execute_result"
        }
      ],
      "source": [
        "# Convert test record to a pandas DataFrame object\n",
        "from pandas.core.frame import DataFrame\n",
        "df_record = DataFrame(record)\n",
        "df_record.columns = [\"Ground Truth\",\"Model Prediction\"]\n",
        "\n",
        "# Concat test texts and test records\n",
        "df = pd.concat([val_data.reset_index(), df_record[\"Model Prediction\"]], axis=1)\n",
        "\n",
        "# Show test result\n",
        "# pd.set_option('display.max_rows', None)    # Display all rows\n",
        "# df\n",
        "\n",
        "# Show incorrect predictions \n",
        "df[df[\"pcr_test_result_inferred\"]!=df[\"Model Prediction\"]]"
      ],
      "id": "c4f97e7b"
    },
    {
      "cell_type": "markdown",
      "metadata": {
        "id": "d405f5bf"
      },
      "source": [
        "Display the Confusion Matrix of the result."
      ],
      "id": "d405f5bf"
    },
    {
      "cell_type": "code",
      "execution_count": null,
      "metadata": {
        "colab": {
          "base_uri": "https://localhost:8080/",
          "height": 295
        },
        "id": "11e4b338",
        "outputId": "25b84e86-fe84-4726-e4de-941e3ec02436"
      },
      "outputs": [
        {
          "data": {
            "image/png": "[encoded data removed]",
            "text/plain": [
              "<Figure size 432x288 with 2 Axes>"
            ]
          },
          "metadata": {},
          "output_type": "display_data"
        }
      ],
      "source": [
        "# Display the Confusion Matrix\n",
        "import seaborn as sns\n",
        "crosstab = pd.crosstab(df_record[\"Ground Truth\"],df_record[\"Model Prediction\"])\n",
        "sns.heatmap(crosstab, cmap='Oranges', annot=True, fmt='g', linewidths=5)\n",
        "accuracy = df_record[\"Ground Truth\"].eq(df_record[\"Model Prediction\"]).sum() / len(df_record[\"Ground Truth\"])\n",
        "plt.title(\"Confusion Matrix (Accuracy: %s%%)\" % round(accuracy*100,2))\n",
        "plt.savefig('confusion_matrix.png')\n",
        "plt.show()"
      ],
      "id": "11e4b338"
    },
    {
      "cell_type": "code",
      "execution_count": null,
      "metadata": {
        "colab": {
          "base_uri": "https://localhost:8080/"
        },
        "id": "yux9Bk7n3fmh",
        "outputId": "cbfd13ba-1bb0-4d41-e79b-4bbd7f9623f5"
      },
      "outputs": [
        {
          "name": "stdout",
          "output_type": "stream",
          "text": [
            "False positive rate: 0.8372093023255814\n",
            "True positive rate: 0.9883720930232558\n",
            "AUC: 0.5755813953488372\n"
          ]
        }
      ],
      "source": [
        "from sklearn.metrics import confusion_matrix\n",
        "confusion_matrix = confusion_matrix(df_record[\"Ground Truth\"],df_record[\"Model Prediction\"])\n",
        "# print(confusion_matrix)\n",
        "_tp = confusion_matrix[0, 0]\n",
        "_fn = confusion_matrix[0, 1]\n",
        "_fp = confusion_matrix[1, 0]\n",
        "_tn = confusion_matrix[1, 1]\n",
        "_tpr = _tp / (_tp + _fn)\n",
        "_fpr = _fp / (_tn + _fp)\n",
        "print('False positive rate:',_fpr)\n",
        "print('True positive rate:',_tpr)\n",
        "auc = roc_auc_score(df_record[\"Ground Truth\"],df_record[\"Model Prediction\"])\n",
        "print('AUC:',auc)"
      ],
      "id": "yux9Bk7n3fmh"
    },
    {
      "cell_type": "code",
      "execution_count": null,
      "metadata": {
        "id": "UOHu4KIp7vDK"
      },
      "outputs": [],
      "source": [],
      "id": "UOHu4KIp7vDK"
    }
  ],
  "metadata": {
    "accelerator": "GPU",
    "colab": {
      "machine_shape": "hm",
      "provenance": []
    },
    "gpuClass": "premium",
    "kernelspec": {
      "display_name": "Python 3",
      "language": "python",
      "name": "python3"
    },
    "language_info": {
      "codemirror_mode": {
        "name": "ipython",
        "version": 3
      },
      "file_extension": ".py",
      "mimetype": "text/x-python",
      "name": "python",
      "nbconvert_exporter": "python",
      "pygments_lexer": "ipython3",
      "version": "3.8.8"
    },
    "widgets": {
      "application/vnd.jupyter.widget-state+json": {
        "09f5c422e6f44de985c8c818aea0deb6": {
          "model_module": "@jupyter-widgets/base",
          "model_module_version": "1.2.0",
          "model_name": "LayoutModel",
          "state": {
            "_model_module": "@jupyter-widgets/base",
            "_model_module_version": "1.2.0",
            "_model_name": "LayoutModel",
            "_view_count": null,
            "_view_module": "@jupyter-widgets/base",
            "_view_module_version": "1.2.0",
            "_view_name": "LayoutView",
            "align_content": null,
            "align_items": null,
            "align_self": null,
            "border": null,
            "bottom": null,
            "display": null,
            "flex": null,
            "flex_flow": null,
            "grid_area": null,
            "grid_auto_columns": null,
            "grid_auto_flow": null,
            "grid_auto_rows": null,
            "grid_column": null,
            "grid_gap": null,
            "grid_row": null,
            "grid_template_areas": null,
            "grid_template_columns": null,
            "grid_template_rows": null,
            "height": null,
            "justify_content": null,
            "justify_items": null,
            "left": null,
            "margin": null,
            "max_height": null,
            "max_width": null,
            "min_height": null,
            "min_width": null,
            "object_fit": null,
            "object_position": null,
            "order": null,
            "overflow": null,
            "overflow_x": null,
            "overflow_y": null,
            "padding": null,
            "right": null,
            "top": null,
            "visibility": null,
            "width": null
          }
        },
        "09f9ea7885074f7081b1dc294effa48e": {
          "model_module": "@jupyter-widgets/base",
          "model_module_version": "1.2.0",
          "model_name": "LayoutModel",
          "state": {
            "_model_module": "@jupyter-widgets/base",
            "_model_module_version": "1.2.0",
            "_model_name": "LayoutModel",
            "_view_count": null,
            "_view_module": "@jupyter-widgets/base",
            "_view_module_version": "1.2.0",
            "_view_name": "LayoutView",
            "align_content": null,
            "align_items": null,
            "align_self": null,
            "border": null,
            "bottom": null,
            "display": null,
            "flex": null,
            "flex_flow": null,
            "grid_area": null,
            "grid_auto_columns": null,
            "grid_auto_flow": null,
            "grid_auto_rows": null,
            "grid_column": null,
            "grid_gap": null,
            "grid_row": null,
            "grid_template_areas": null,
            "grid_template_columns": null,
            "grid_template_rows": null,
            "height": null,
            "justify_content": null,
            "justify_items": null,
            "left": null,
            "margin": null,
            "max_height": null,
            "max_width": null,
            "min_height": null,
            "min_width": null,
            "object_fit": null,
            "object_position": null,
            "order": null,
            "overflow": null,
            "overflow_x": null,
            "overflow_y": null,
            "padding": null,
            "right": null,
            "top": null,
            "visibility": null,
            "width": null
          }
        },
        "1a235569e339427fa0ea7e24cc206d2b": {
          "model_module": "@jupyter-widgets/base",
          "model_module_version": "1.2.0",
          "model_name": "LayoutModel",
          "state": {
            "_model_module": "@jupyter-widgets/base",
            "_model_module_version": "1.2.0",
            "_model_name": "LayoutModel",
            "_view_count": null,
            "_view_module": "@jupyter-widgets/base",
            "_view_module_version": "1.2.0",
            "_view_name": "LayoutView",
            "align_content": null,
            "align_items": null,
            "align_self": null,
            "border": null,
            "bottom": null,
            "display": null,
            "flex": null,
            "flex_flow": null,
            "grid_area": null,
            "grid_auto_columns": null,
            "grid_auto_flow": null,
            "grid_auto_rows": null,
            "grid_column": null,
            "grid_gap": null,
            "grid_row": null,
            "grid_template_areas": null,
            "grid_template_columns": null,
            "grid_template_rows": null,
            "height": null,
            "justify_content": null,
            "justify_items": null,
            "left": null,
            "margin": null,
            "max_height": null,
            "max_width": null,
            "min_height": null,
            "min_width": null,
            "object_fit": null,
            "object_position": null,
            "order": null,
            "overflow": null,
            "overflow_x": null,
            "overflow_y": null,
            "padding": null,
            "right": null,
            "top": null,
            "visibility": null,
            "width": null
          }
        },
        "20b9c7fd0b534ca5821cc578c7180af5": {
          "model_module": "@jupyter-widgets/base",
          "model_module_version": "1.2.0",
          "model_name": "LayoutModel",
          "state": {
            "_model_module": "@jupyter-widgets/base",
            "_model_module_version": "1.2.0",
            "_model_name": "LayoutModel",
            "_view_count": null,
            "_view_module": "@jupyter-widgets/base",
            "_view_module_version": "1.2.0",
            "_view_name": "LayoutView",
            "align_content": null,
            "align_items": null,
            "align_self": null,
            "border": null,
            "bottom": null,
            "display": null,
            "flex": null,
            "flex_flow": null,
            "grid_area": null,
            "grid_auto_columns": null,
            "grid_auto_flow": null,
            "grid_auto_rows": null,
            "grid_column": null,
            "grid_gap": null,
            "grid_row": null,
            "grid_template_areas": null,
            "grid_template_columns": null,
            "grid_template_rows": null,
            "height": null,
            "justify_content": null,
            "justify_items": null,
            "left": null,
            "margin": null,
            "max_height": null,
            "max_width": null,
            "min_height": null,
            "min_width": null,
            "object_fit": null,
            "object_position": null,
            "order": null,
            "overflow": null,
            "overflow_x": null,
            "overflow_y": null,
            "padding": null,
            "right": null,
            "top": null,
            "visibility": null,
            "width": null
          }
        },
        "22bdb200e1ff4c17b39e4ee960201b05": {
          "model_module": "@jupyter-widgets/base",
          "model_module_version": "1.2.0",
          "model_name": "LayoutModel",
          "state": {
            "_model_module": "@jupyter-widgets/base",
            "_model_module_version": "1.2.0",
            "_model_name": "LayoutModel",
            "_view_count": null,
            "_view_module": "@jupyter-widgets/base",
            "_view_module_version": "1.2.0",
            "_view_name": "LayoutView",
            "align_content": null,
            "align_items": null,
            "align_self": null,
            "border": null,
            "bottom": null,
            "display": null,
            "flex": null,
            "flex_flow": null,
            "grid_area": null,
            "grid_auto_columns": null,
            "grid_auto_flow": null,
            "grid_auto_rows": null,
            "grid_column": null,
            "grid_gap": null,
            "grid_row": null,
            "grid_template_areas": null,
            "grid_template_columns": null,
            "grid_template_rows": null,
            "height": null,
            "justify_content": null,
            "justify_items": null,
            "left": null,
            "margin": null,
            "max_height": null,
            "max_width": null,
            "min_height": null,
            "min_width": null,
            "object_fit": null,
            "object_position": null,
            "order": null,
            "overflow": null,
            "overflow_x": null,
            "overflow_y": null,
            "padding": null,
            "right": null,
            "top": null,
            "visibility": null,
            "width": null
          }
        },
        "24d8fd598e1a49abb8ba790b7636c31a": {
          "model_module": "@jupyter-widgets/controls",
          "model_module_version": "1.5.0",
          "model_name": "ProgressStyleModel",
          "state": {
            "_model_module": "@jupyter-widgets/controls",
            "_model_module_version": "1.5.0",
            "_model_name": "ProgressStyleModel",
            "_view_count": null,
            "_view_module": "@jupyter-widgets/base",
            "_view_module_version": "1.2.0",
            "_view_name": "StyleView",
            "bar_color": null,
            "description_width": ""
          }
        },
        "2b58d634c65146f68bd9141bae879088": {
          "model_module": "@jupyter-widgets/controls",
          "model_module_version": "1.5.0",
          "model_name": "HBoxModel",
          "state": {
            "_dom_classes": [],
            "_model_module": "@jupyter-widgets/controls",
            "_model_module_version": "1.5.0",
            "_model_name": "HBoxModel",
            "_view_count": null,
            "_view_module": "@jupyter-widgets/controls",
            "_view_module_version": "1.5.0",
            "_view_name": "HBoxView",
            "box_style": "",
            "children": [
              "IPY_MODEL_f3a26314bc974c6ab2d702241572b805",
              "IPY_MODEL_d6d578cfd0e84f8d94eed095a967a9b5",
              "IPY_MODEL_aaec2a65f45d48fb8ce3414a944cfb8b"
            ],
            "layout": "IPY_MODEL_7a5351ce25324755b3f74fc2144caa6d"
          }
        },
        "2df1815f38b546b288b889092e6fb763": {
          "model_module": "@jupyter-widgets/base",
          "model_module_version": "1.2.0",
          "model_name": "LayoutModel",
          "state": {
            "_model_module": "@jupyter-widgets/base",
            "_model_module_version": "1.2.0",
            "_model_name": "LayoutModel",
            "_view_count": null,
            "_view_module": "@jupyter-widgets/base",
            "_view_module_version": "1.2.0",
            "_view_name": "LayoutView",
            "align_content": null,
            "align_items": null,
            "align_self": null,
            "border": null,
            "bottom": null,
            "display": null,
            "flex": null,
            "flex_flow": null,
            "grid_area": null,
            "grid_auto_columns": null,
            "grid_auto_flow": null,
            "grid_auto_rows": null,
            "grid_column": null,
            "grid_gap": null,
            "grid_row": null,
            "grid_template_areas": null,
            "grid_template_columns": null,
            "grid_template_rows": null,
            "height": null,
            "justify_content": null,
            "justify_items": null,
            "left": null,
            "margin": null,
            "max_height": null,
            "max_width": null,
            "min_height": null,
            "min_width": null,
            "object_fit": null,
            "object_position": null,
            "order": null,
            "overflow": null,
            "overflow_x": null,
            "overflow_y": null,
            "padding": null,
            "right": null,
            "top": null,
            "visibility": null,
            "width": null
          }
        },
        "2ed051b3f3b345dd82d80b4e54d9e215": {
          "model_module": "@jupyter-widgets/base",
          "model_module_version": "1.2.0",
          "model_name": "LayoutModel",
          "state": {
            "_model_module": "@jupyter-widgets/base",
            "_model_module_version": "1.2.0",
            "_model_name": "LayoutModel",
            "_view_count": null,
            "_view_module": "@jupyter-widgets/base",
            "_view_module_version": "1.2.0",
            "_view_name": "LayoutView",
            "align_content": null,
            "align_items": null,
            "align_self": null,
            "border": null,
            "bottom": null,
            "display": null,
            "flex": null,
            "flex_flow": null,
            "grid_area": null,
            "grid_auto_columns": null,
            "grid_auto_flow": null,
            "grid_auto_rows": null,
            "grid_column": null,
            "grid_gap": null,
            "grid_row": null,
            "grid_template_areas": null,
            "grid_template_columns": null,
            "grid_template_rows": null,
            "height": null,
            "justify_content": null,
            "justify_items": null,
            "left": null,
            "margin": null,
            "max_height": null,
            "max_width": null,
            "min_height": null,
            "min_width": null,
            "object_fit": null,
            "object_position": null,
            "order": null,
            "overflow": null,
            "overflow_x": null,
            "overflow_y": null,
            "padding": null,
            "right": null,
            "top": null,
            "visibility": null,
            "width": null
          }
        },
        "2f817e2377924fb2aac9b9edc0a937aa": {
          "model_module": "@jupyter-widgets/controls",
          "model_module_version": "1.5.0",
          "model_name": "HTMLModel",
          "state": {
            "_dom_classes": [],
            "_model_module": "@jupyter-widgets/controls",
            "_model_module_version": "1.5.0",
            "_model_name": "HTMLModel",
            "_view_count": null,
            "_view_module": "@jupyter-widgets/controls",
            "_view_module_version": "1.5.0",
            "_view_name": "HTMLView",
            "description": "",
            "description_tooltip": null,
            "layout": "IPY_MODEL_687a8defb7e040ae8903f39611fa5b5a",
            "placeholder": "​",
            "style": "IPY_MODEL_b1cfd295989740f3abb4cb9c13e927ee",
            "value": " 1.83k/1.83k [00:00&lt;00:00, 120kB/s]"
          }
        },
        "35ac9c8209994ef5ab98b9d581a7e950": {
          "model_module": "@jupyter-widgets/controls",
          "model_module_version": "1.5.0",
          "model_name": "HTMLModel",
          "state": {
            "_dom_classes": [],
            "_model_module": "@jupyter-widgets/controls",
            "_model_module_version": "1.5.0",
            "_model_name": "HTMLModel",
            "_view_count": null,
            "_view_module": "@jupyter-widgets/controls",
            "_view_module_version": "1.5.0",
            "_view_name": "HTMLView",
            "description": "",
            "description_tooltip": null,
            "layout": "IPY_MODEL_09f9ea7885074f7081b1dc294effa48e",
            "placeholder": "​",
            "style": "IPY_MODEL_997151139e7d48658a31dc784fb9ba4a",
            "value": "Map:  99%"
          }
        },
        "3dc1e9c4ae43438ab51fc3cd7172d3d4": {
          "model_module": "@jupyter-widgets/controls",
          "model_module_version": "1.5.0",
          "model_name": "HBoxModel",
          "state": {
            "_dom_classes": [],
            "_model_module": "@jupyter-widgets/controls",
            "_model_module_version": "1.5.0",
            "_model_name": "HBoxModel",
            "_view_count": null,
            "_view_module": "@jupyter-widgets/controls",
            "_view_module_version": "1.5.0",
            "_view_name": "HBoxView",
            "box_style": "",
            "children": [
              "IPY_MODEL_5e8e6340689a4bddb3e9e72d4c5f337c",
              "IPY_MODEL_455d1b0a7260490aadbb2e4f26d85484",
              "IPY_MODEL_2f817e2377924fb2aac9b9edc0a937aa"
            ],
            "layout": "IPY_MODEL_2df1815f38b546b288b889092e6fb763"
          }
        },
        "425223a431bd45d495424f2dd0c04c45": {
          "model_module": "@jupyter-widgets/controls",
          "model_module_version": "1.5.0",
          "model_name": "HTMLModel",
          "state": {
            "_dom_classes": [],
            "_model_module": "@jupyter-widgets/controls",
            "_model_module_version": "1.5.0",
            "_model_name": "HTMLModel",
            "_view_count": null,
            "_view_module": "@jupyter-widgets/controls",
            "_view_module_version": "1.5.0",
            "_view_name": "HTMLView",
            "description": "",
            "description_tooltip": null,
            "layout": "IPY_MODEL_20b9c7fd0b534ca5821cc578c7180af5",
            "placeholder": "​",
            "style": "IPY_MODEL_6ca776f203fa46ac9cd0c1aa02b34a19",
            "value": " 679/688 [00:04&lt;00:00, 146.06 examples/s]"
          }
        },
        "455d1b0a7260490aadbb2e4f26d85484": {
          "model_module": "@jupyter-widgets/controls",
          "model_module_version": "1.5.0",
          "model_name": "FloatProgressModel",
          "state": {
            "_dom_classes": [],
            "_model_module": "@jupyter-widgets/controls",
            "_model_module_version": "1.5.0",
            "_model_name": "FloatProgressModel",
            "_view_count": null,
            "_view_module": "@jupyter-widgets/controls",
            "_view_module_version": "1.5.0",
            "_view_name": "ProgressView",
            "bar_style": "success",
            "description": "",
            "description_tooltip": null,
            "layout": "IPY_MODEL_4f99bf6587114daa8f6a0c172b61d892",
            "max": 1828,
            "min": 0,
            "orientation": "horizontal",
            "style": "IPY_MODEL_51fcfe31440842248a57ce0640b5ec57",
            "value": 1828
          }
        },
        "487d1b08a16b4f53a3e458e72fe278b5": {
          "model_module": "@jupyter-widgets/base",
          "model_module_version": "1.2.0",
          "model_name": "LayoutModel",
          "state": {
            "_model_module": "@jupyter-widgets/base",
            "_model_module_version": "1.2.0",
            "_model_name": "LayoutModel",
            "_view_count": null,
            "_view_module": "@jupyter-widgets/base",
            "_view_module_version": "1.2.0",
            "_view_name": "LayoutView",
            "align_content": null,
            "align_items": null,
            "align_self": null,
            "border": null,
            "bottom": null,
            "display": null,
            "flex": null,
            "flex_flow": null,
            "grid_area": null,
            "grid_auto_columns": null,
            "grid_auto_flow": null,
            "grid_auto_rows": null,
            "grid_column": null,
            "grid_gap": null,
            "grid_row": null,
            "grid_template_areas": null,
            "grid_template_columns": null,
            "grid_template_rows": null,
            "height": null,
            "justify_content": null,
            "justify_items": null,
            "left": null,
            "margin": null,
            "max_height": null,
            "max_width": null,
            "min_height": null,
            "min_width": null,
            "object_fit": null,
            "object_position": null,
            "order": null,
            "overflow": null,
            "overflow_x": null,
            "overflow_y": null,
            "padding": null,
            "right": null,
            "top": null,
            "visibility": null,
            "width": null
          }
        },
        "4f99bf6587114daa8f6a0c172b61d892": {
          "model_module": "@jupyter-widgets/base",
          "model_module_version": "1.2.0",
          "model_name": "LayoutModel",
          "state": {
            "_model_module": "@jupyter-widgets/base",
            "_model_module_version": "1.2.0",
            "_model_name": "LayoutModel",
            "_view_count": null,
            "_view_module": "@jupyter-widgets/base",
            "_view_module_version": "1.2.0",
            "_view_name": "LayoutView",
            "align_content": null,
            "align_items": null,
            "align_self": null,
            "border": null,
            "bottom": null,
            "display": null,
            "flex": null,
            "flex_flow": null,
            "grid_area": null,
            "grid_auto_columns": null,
            "grid_auto_flow": null,
            "grid_auto_rows": null,
            "grid_column": null,
            "grid_gap": null,
            "grid_row": null,
            "grid_template_areas": null,
            "grid_template_columns": null,
            "grid_template_rows": null,
            "height": null,
            "justify_content": null,
            "justify_items": null,
            "left": null,
            "margin": null,
            "max_height": null,
            "max_width": null,
            "min_height": null,
            "min_width": null,
            "object_fit": null,
            "object_position": null,
            "order": null,
            "overflow": null,
            "overflow_x": null,
            "overflow_y": null,
            "padding": null,
            "right": null,
            "top": null,
            "visibility": null,
            "width": null
          }
        },
        "51fcfe31440842248a57ce0640b5ec57": {
          "model_module": "@jupyter-widgets/controls",
          "model_module_version": "1.5.0",
          "model_name": "ProgressStyleModel",
          "state": {
            "_model_module": "@jupyter-widgets/controls",
            "_model_module_version": "1.5.0",
            "_model_name": "ProgressStyleModel",
            "_view_count": null,
            "_view_module": "@jupyter-widgets/base",
            "_view_module_version": "1.2.0",
            "_view_name": "StyleView",
            "bar_color": null,
            "description_width": ""
          }
        },
        "5e8e6340689a4bddb3e9e72d4c5f337c": {
          "model_module": "@jupyter-widgets/controls",
          "model_module_version": "1.5.0",
          "model_name": "HTMLModel",
          "state": {
            "_dom_classes": [],
            "_model_module": "@jupyter-widgets/controls",
            "_model_module_version": "1.5.0",
            "_model_name": "HTMLModel",
            "_view_count": null,
            "_view_module": "@jupyter-widgets/controls",
            "_view_module_version": "1.5.0",
            "_view_name": "HTMLView",
            "description": "",
            "description_tooltip": null,
            "layout": "IPY_MODEL_79fbc05c5bbe46bfb8dd7ac5f2ac7c06",
            "placeholder": "​",
            "style": "IPY_MODEL_9ad3e97f271c48a79d2887938a015096",
            "value": "Downloading (…)lve/main/config.json: 100%"
          }
        },
        "640a1e08f28b460c9777f3b380fd049b": {
          "model_module": "@jupyter-widgets/controls",
          "model_module_version": "1.5.0",
          "model_name": "DescriptionStyleModel",
          "state": {
            "_model_module": "@jupyter-widgets/controls",
            "_model_module_version": "1.5.0",
            "_model_name": "DescriptionStyleModel",
            "_view_count": null,
            "_view_module": "@jupyter-widgets/base",
            "_view_module_version": "1.2.0",
            "_view_name": "StyleView",
            "description_width": ""
          }
        },
        "66f20de63de041508789d2a35661355e": {
          "model_module": "@jupyter-widgets/base",
          "model_module_version": "1.2.0",
          "model_name": "LayoutModel",
          "state": {
            "_model_module": "@jupyter-widgets/base",
            "_model_module_version": "1.2.0",
            "_model_name": "LayoutModel",
            "_view_count": null,
            "_view_module": "@jupyter-widgets/base",
            "_view_module_version": "1.2.0",
            "_view_name": "LayoutView",
            "align_content": null,
            "align_items": null,
            "align_self": null,
            "border": null,
            "bottom": null,
            "display": null,
            "flex": null,
            "flex_flow": null,
            "grid_area": null,
            "grid_auto_columns": null,
            "grid_auto_flow": null,
            "grid_auto_rows": null,
            "grid_column": null,
            "grid_gap": null,
            "grid_row": null,
            "grid_template_areas": null,
            "grid_template_columns": null,
            "grid_template_rows": null,
            "height": null,
            "justify_content": null,
            "justify_items": null,
            "left": null,
            "margin": null,
            "max_height": null,
            "max_width": null,
            "min_height": null,
            "min_width": null,
            "object_fit": null,
            "object_position": null,
            "order": null,
            "overflow": null,
            "overflow_x": null,
            "overflow_y": null,
            "padding": null,
            "right": null,
            "top": null,
            "visibility": null,
            "width": null
          }
        },
        "687a8defb7e040ae8903f39611fa5b5a": {
          "model_module": "@jupyter-widgets/base",
          "model_module_version": "1.2.0",
          "model_name": "LayoutModel",
          "state": {
            "_model_module": "@jupyter-widgets/base",
            "_model_module_version": "1.2.0",
            "_model_name": "LayoutModel",
            "_view_count": null,
            "_view_module": "@jupyter-widgets/base",
            "_view_module_version": "1.2.0",
            "_view_name": "LayoutView",
            "align_content": null,
            "align_items": null,
            "align_self": null,
            "border": null,
            "bottom": null,
            "display": null,
            "flex": null,
            "flex_flow": null,
            "grid_area": null,
            "grid_auto_columns": null,
            "grid_auto_flow": null,
            "grid_auto_rows": null,
            "grid_column": null,
            "grid_gap": null,
            "grid_row": null,
            "grid_template_areas": null,
            "grid_template_columns": null,
            "grid_template_rows": null,
            "height": null,
            "justify_content": null,
            "justify_items": null,
            "left": null,
            "margin": null,
            "max_height": null,
            "max_width": null,
            "min_height": null,
            "min_width": null,
            "object_fit": null,
            "object_position": null,
            "order": null,
            "overflow": null,
            "overflow_x": null,
            "overflow_y": null,
            "padding": null,
            "right": null,
            "top": null,
            "visibility": null,
            "width": null
          }
        },
        "6ca776f203fa46ac9cd0c1aa02b34a19": {
          "model_module": "@jupyter-widgets/controls",
          "model_module_version": "1.5.0",
          "model_name": "DescriptionStyleModel",
          "state": {
            "_model_module": "@jupyter-widgets/controls",
            "_model_module_version": "1.5.0",
            "_model_name": "DescriptionStyleModel",
            "_view_count": null,
            "_view_module": "@jupyter-widgets/base",
            "_view_module_version": "1.2.0",
            "_view_name": "StyleView",
            "description_width": ""
          }
        },
        "729abe3215b54ae7b51ae5df810576d5": {
          "model_module": "@jupyter-widgets/controls",
          "model_module_version": "1.5.0",
          "model_name": "HBoxModel",
          "state": {
            "_dom_classes": [],
            "_model_module": "@jupyter-widgets/controls",
            "_model_module_version": "1.5.0",
            "_model_name": "HBoxModel",
            "_view_count": null,
            "_view_module": "@jupyter-widgets/controls",
            "_view_module_version": "1.5.0",
            "_view_name": "HBoxView",
            "box_style": "",
            "children": [
              "IPY_MODEL_b85fcd78594d423f92316666eac06db8",
              "IPY_MODEL_be78496a5b17404d873a3da3e76722cf",
              "IPY_MODEL_9ecfd2cfc8374ce98e4c8484d5a6564e"
            ],
            "layout": "IPY_MODEL_b1cc3170cbbf4d0386a65fb0f580fd2d"
          }
        },
        "79fbc05c5bbe46bfb8dd7ac5f2ac7c06": {
          "model_module": "@jupyter-widgets/base",
          "model_module_version": "1.2.0",
          "model_name": "LayoutModel",
          "state": {
            "_model_module": "@jupyter-widgets/base",
            "_model_module_version": "1.2.0",
            "_model_name": "LayoutModel",
            "_view_count": null,
            "_view_module": "@jupyter-widgets/base",
            "_view_module_version": "1.2.0",
            "_view_name": "LayoutView",
            "align_content": null,
            "align_items": null,
            "align_self": null,
            "border": null,
            "bottom": null,
            "display": null,
            "flex": null,
            "flex_flow": null,
            "grid_area": null,
            "grid_auto_columns": null,
            "grid_auto_flow": null,
            "grid_auto_rows": null,
            "grid_column": null,
            "grid_gap": null,
            "grid_row": null,
            "grid_template_areas": null,
            "grid_template_columns": null,
            "grid_template_rows": null,
            "height": null,
            "justify_content": null,
            "justify_items": null,
            "left": null,
            "margin": null,
            "max_height": null,
            "max_width": null,
            "min_height": null,
            "min_width": null,
            "object_fit": null,
            "object_position": null,
            "order": null,
            "overflow": null,
            "overflow_x": null,
            "overflow_y": null,
            "padding": null,
            "right": null,
            "top": null,
            "visibility": null,
            "width": null
          }
        },
        "7a5351ce25324755b3f74fc2144caa6d": {
          "model_module": "@jupyter-widgets/base",
          "model_module_version": "1.2.0",
          "model_name": "LayoutModel",
          "state": {
            "_model_module": "@jupyter-widgets/base",
            "_model_module_version": "1.2.0",
            "_model_name": "LayoutModel",
            "_view_count": null,
            "_view_module": "@jupyter-widgets/base",
            "_view_module_version": "1.2.0",
            "_view_name": "LayoutView",
            "align_content": null,
            "align_items": null,
            "align_self": null,
            "border": null,
            "bottom": null,
            "display": null,
            "flex": null,
            "flex_flow": null,
            "grid_area": null,
            "grid_auto_columns": null,
            "grid_auto_flow": null,
            "grid_auto_rows": null,
            "grid_column": null,
            "grid_gap": null,
            "grid_row": null,
            "grid_template_areas": null,
            "grid_template_columns": null,
            "grid_template_rows": null,
            "height": null,
            "justify_content": null,
            "justify_items": null,
            "left": null,
            "margin": null,
            "max_height": null,
            "max_width": null,
            "min_height": null,
            "min_width": null,
            "object_fit": null,
            "object_position": null,
            "order": null,
            "overflow": null,
            "overflow_x": null,
            "overflow_y": null,
            "padding": null,
            "right": null,
            "top": null,
            "visibility": "hidden",
            "width": null
          }
        },
        "81d704b317c4402fa45eb60a103d20a0": {
          "model_module": "@jupyter-widgets/controls",
          "model_module_version": "1.5.0",
          "model_name": "ProgressStyleModel",
          "state": {
            "_model_module": "@jupyter-widgets/controls",
            "_model_module_version": "1.5.0",
            "_model_name": "ProgressStyleModel",
            "_view_count": null,
            "_view_module": "@jupyter-widgets/base",
            "_view_module_version": "1.2.0",
            "_view_name": "StyleView",
            "bar_color": null,
            "description_width": ""
          }
        },
        "96b878d925ea47e39c1f18d795028b9c": {
          "model_module": "@jupyter-widgets/controls",
          "model_module_version": "1.5.0",
          "model_name": "ProgressStyleModel",
          "state": {
            "_model_module": "@jupyter-widgets/controls",
            "_model_module_version": "1.5.0",
            "_model_name": "ProgressStyleModel",
            "_view_count": null,
            "_view_module": "@jupyter-widgets/base",
            "_view_module_version": "1.2.0",
            "_view_name": "StyleView",
            "bar_color": null,
            "description_width": ""
          }
        },
        "97ba7bb22ae54421bd46384cba84c4bb": {
          "model_module": "@jupyter-widgets/controls",
          "model_module_version": "1.5.0",
          "model_name": "FloatProgressModel",
          "state": {
            "_dom_classes": [],
            "_model_module": "@jupyter-widgets/controls",
            "_model_module_version": "1.5.0",
            "_model_name": "FloatProgressModel",
            "_view_count": null,
            "_view_module": "@jupyter-widgets/controls",
            "_view_module_version": "1.5.0",
            "_view_name": "ProgressView",
            "bar_style": "",
            "description": "",
            "description_tooltip": null,
            "layout": "IPY_MODEL_22bdb200e1ff4c17b39e4ee960201b05",
            "max": 688,
            "min": 0,
            "orientation": "horizontal",
            "style": "IPY_MODEL_81d704b317c4402fa45eb60a103d20a0",
            "value": 688
          }
        },
        "997151139e7d48658a31dc784fb9ba4a": {
          "model_module": "@jupyter-widgets/controls",
          "model_module_version": "1.5.0",
          "model_name": "DescriptionStyleModel",
          "state": {
            "_model_module": "@jupyter-widgets/controls",
            "_model_module_version": "1.5.0",
            "_model_name": "DescriptionStyleModel",
            "_view_count": null,
            "_view_module": "@jupyter-widgets/base",
            "_view_module_version": "1.2.0",
            "_view_name": "StyleView",
            "description_width": ""
          }
        },
        "9ad3e97f271c48a79d2887938a015096": {
          "model_module": "@jupyter-widgets/controls",
          "model_module_version": "1.5.0",
          "model_name": "DescriptionStyleModel",
          "state": {
            "_model_module": "@jupyter-widgets/controls",
            "_model_module_version": "1.5.0",
            "_model_name": "DescriptionStyleModel",
            "_view_count": null,
            "_view_module": "@jupyter-widgets/base",
            "_view_module_version": "1.2.0",
            "_view_name": "StyleView",
            "description_width": ""
          }
        },
        "9ecfd2cfc8374ce98e4c8484d5a6564e": {
          "model_module": "@jupyter-widgets/controls",
          "model_module_version": "1.5.0",
          "model_name": "HTMLModel",
          "state": {
            "_dom_classes": [],
            "_model_module": "@jupyter-widgets/controls",
            "_model_module_version": "1.5.0",
            "_model_name": "HTMLModel",
            "_view_count": null,
            "_view_module": "@jupyter-widgets/controls",
            "_view_module_version": "1.5.0",
            "_view_name": "HTMLView",
            "description": "",
            "description_tooltip": null,
            "layout": "IPY_MODEL_fa9637ab6e68422dbabc38bde38ff31d",
            "placeholder": "​",
            "style": "IPY_MODEL_c1aa9a7624c747f99a6f926d0c2f7738",
            "value": " 1.26G/1.26G [00:06&lt;00:00, 232MB/s]"
          }
        },
        "a6280cf3318d4f359cfe928de4585f03": {
          "model_module": "@jupyter-widgets/controls",
          "model_module_version": "1.5.0",
          "model_name": "DescriptionStyleModel",
          "state": {
            "_model_module": "@jupyter-widgets/controls",
            "_model_module_version": "1.5.0",
            "_model_name": "DescriptionStyleModel",
            "_view_count": null,
            "_view_module": "@jupyter-widgets/base",
            "_view_module_version": "1.2.0",
            "_view_name": "StyleView",
            "description_width": ""
          }
        },
        "aaec2a65f45d48fb8ce3414a944cfb8b": {
          "model_module": "@jupyter-widgets/controls",
          "model_module_version": "1.5.0",
          "model_name": "HTMLModel",
          "state": {
            "_dom_classes": [],
            "_model_module": "@jupyter-widgets/controls",
            "_model_module_version": "1.5.0",
            "_model_name": "HTMLModel",
            "_view_count": null,
            "_view_module": "@jupyter-widgets/controls",
            "_view_module_version": "1.5.0",
            "_view_name": "HTMLView",
            "description": "",
            "description_tooltip": null,
            "layout": "IPY_MODEL_1a235569e339427fa0ea7e24cc206d2b",
            "placeholder": "​",
            "style": "IPY_MODEL_640a1e08f28b460c9777f3b380fd049b",
            "value": " 3016/3016 [00:26&lt;00:00, 25.31 examples/s]"
          }
        },
        "b1cc3170cbbf4d0386a65fb0f580fd2d": {
          "model_module": "@jupyter-widgets/base",
          "model_module_version": "1.2.0",
          "model_name": "LayoutModel",
          "state": {
            "_model_module": "@jupyter-widgets/base",
            "_model_module_version": "1.2.0",
            "_model_name": "LayoutModel",
            "_view_count": null,
            "_view_module": "@jupyter-widgets/base",
            "_view_module_version": "1.2.0",
            "_view_name": "LayoutView",
            "align_content": null,
            "align_items": null,
            "align_self": null,
            "border": null,
            "bottom": null,
            "display": null,
            "flex": null,
            "flex_flow": null,
            "grid_area": null,
            "grid_auto_columns": null,
            "grid_auto_flow": null,
            "grid_auto_rows": null,
            "grid_column": null,
            "grid_gap": null,
            "grid_row": null,
            "grid_template_areas": null,
            "grid_template_columns": null,
            "grid_template_rows": null,
            "height": null,
            "justify_content": null,
            "justify_items": null,
            "left": null,
            "margin": null,
            "max_height": null,
            "max_width": null,
            "min_height": null,
            "min_width": null,
            "object_fit": null,
            "object_position": null,
            "order": null,
            "overflow": null,
            "overflow_x": null,
            "overflow_y": null,
            "padding": null,
            "right": null,
            "top": null,
            "visibility": null,
            "width": null
          }
        },
        "b1cfd295989740f3abb4cb9c13e927ee": {
          "model_module": "@jupyter-widgets/controls",
          "model_module_version": "1.5.0",
          "model_name": "DescriptionStyleModel",
          "state": {
            "_model_module": "@jupyter-widgets/controls",
            "_model_module_version": "1.5.0",
            "_model_name": "DescriptionStyleModel",
            "_view_count": null,
            "_view_module": "@jupyter-widgets/base",
            "_view_module_version": "1.2.0",
            "_view_name": "StyleView",
            "description_width": ""
          }
        },
        "b85fcd78594d423f92316666eac06db8": {
          "model_module": "@jupyter-widgets/controls",
          "model_module_version": "1.5.0",
          "model_name": "HTMLModel",
          "state": {
            "_dom_classes": [],
            "_model_module": "@jupyter-widgets/controls",
            "_model_module_version": "1.5.0",
            "_model_name": "HTMLModel",
            "_view_count": null,
            "_view_module": "@jupyter-widgets/controls",
            "_view_module_version": "1.5.0",
            "_view_name": "HTMLView",
            "description": "",
            "description_tooltip": null,
            "layout": "IPY_MODEL_2ed051b3f3b345dd82d80b4e54d9e215",
            "placeholder": "​",
            "style": "IPY_MODEL_ea299dc4750645cb9c2a3f6def3901fc",
            "value": "Downloading (…)&quot;pytorch_model.bin&quot;;: 100%"
          }
        },
        "be4019cc89de4a27850a0fdf1c4bde21": {
          "model_module": "@jupyter-widgets/base",
          "model_module_version": "1.2.0",
          "model_name": "LayoutModel",
          "state": {
            "_model_module": "@jupyter-widgets/base",
            "_model_module_version": "1.2.0",
            "_model_name": "LayoutModel",
            "_view_count": null,
            "_view_module": "@jupyter-widgets/base",
            "_view_module_version": "1.2.0",
            "_view_name": "LayoutView",
            "align_content": null,
            "align_items": null,
            "align_self": null,
            "border": null,
            "bottom": null,
            "display": null,
            "flex": null,
            "flex_flow": null,
            "grid_area": null,
            "grid_auto_columns": null,
            "grid_auto_flow": null,
            "grid_auto_rows": null,
            "grid_column": null,
            "grid_gap": null,
            "grid_row": null,
            "grid_template_areas": null,
            "grid_template_columns": null,
            "grid_template_rows": null,
            "height": null,
            "justify_content": null,
            "justify_items": null,
            "left": null,
            "margin": null,
            "max_height": null,
            "max_width": null,
            "min_height": null,
            "min_width": null,
            "object_fit": null,
            "object_position": null,
            "order": null,
            "overflow": null,
            "overflow_x": null,
            "overflow_y": null,
            "padding": null,
            "right": null,
            "top": null,
            "visibility": "hidden",
            "width": null
          }
        },
        "be78496a5b17404d873a3da3e76722cf": {
          "model_module": "@jupyter-widgets/controls",
          "model_module_version": "1.5.0",
          "model_name": "FloatProgressModel",
          "state": {
            "_dom_classes": [],
            "_model_module": "@jupyter-widgets/controls",
            "_model_module_version": "1.5.0",
            "_model_name": "FloatProgressModel",
            "_view_count": null,
            "_view_module": "@jupyter-widgets/controls",
            "_view_module_version": "1.5.0",
            "_view_name": "ProgressView",
            "bar_style": "success",
            "description": "",
            "description_tooltip": null,
            "layout": "IPY_MODEL_09f5c422e6f44de985c8c818aea0deb6",
            "max": 1262970923,
            "min": 0,
            "orientation": "horizontal",
            "style": "IPY_MODEL_24d8fd598e1a49abb8ba790b7636c31a",
            "value": 1262970923
          }
        },
        "c1aa9a7624c747f99a6f926d0c2f7738": {
          "model_module": "@jupyter-widgets/controls",
          "model_module_version": "1.5.0",
          "model_name": "DescriptionStyleModel",
          "state": {
            "_model_module": "@jupyter-widgets/controls",
            "_model_module_version": "1.5.0",
            "_model_name": "DescriptionStyleModel",
            "_view_count": null,
            "_view_module": "@jupyter-widgets/base",
            "_view_module_version": "1.2.0",
            "_view_name": "StyleView",
            "description_width": ""
          }
        },
        "d6d578cfd0e84f8d94eed095a967a9b5": {
          "model_module": "@jupyter-widgets/controls",
          "model_module_version": "1.5.0",
          "model_name": "FloatProgressModel",
          "state": {
            "_dom_classes": [],
            "_model_module": "@jupyter-widgets/controls",
            "_model_module_version": "1.5.0",
            "_model_name": "FloatProgressModel",
            "_view_count": null,
            "_view_module": "@jupyter-widgets/controls",
            "_view_module_version": "1.5.0",
            "_view_name": "ProgressView",
            "bar_style": "",
            "description": "",
            "description_tooltip": null,
            "layout": "IPY_MODEL_487d1b08a16b4f53a3e458e72fe278b5",
            "max": 3016,
            "min": 0,
            "orientation": "horizontal",
            "style": "IPY_MODEL_96b878d925ea47e39c1f18d795028b9c",
            "value": 3016
          }
        },
        "ea299dc4750645cb9c2a3f6def3901fc": {
          "model_module": "@jupyter-widgets/controls",
          "model_module_version": "1.5.0",
          "model_name": "DescriptionStyleModel",
          "state": {
            "_model_module": "@jupyter-widgets/controls",
            "_model_module_version": "1.5.0",
            "_model_name": "DescriptionStyleModel",
            "_view_count": null,
            "_view_module": "@jupyter-widgets/base",
            "_view_module_version": "1.2.0",
            "_view_name": "StyleView",
            "description_width": ""
          }
        },
        "f1609c9587d941d490e29babce1fac6b": {
          "model_module": "@jupyter-widgets/controls",
          "model_module_version": "1.5.0",
          "model_name": "HBoxModel",
          "state": {
            "_dom_classes": [],
            "_model_module": "@jupyter-widgets/controls",
            "_model_module_version": "1.5.0",
            "_model_name": "HBoxModel",
            "_view_count": null,
            "_view_module": "@jupyter-widgets/controls",
            "_view_module_version": "1.5.0",
            "_view_name": "HBoxView",
            "box_style": "",
            "children": [
              "IPY_MODEL_35ac9c8209994ef5ab98b9d581a7e950",
              "IPY_MODEL_97ba7bb22ae54421bd46384cba84c4bb",
              "IPY_MODEL_425223a431bd45d495424f2dd0c04c45"
            ],
            "layout": "IPY_MODEL_be4019cc89de4a27850a0fdf1c4bde21"
          }
        },
        "f3a26314bc974c6ab2d702241572b805": {
          "model_module": "@jupyter-widgets/controls",
          "model_module_version": "1.5.0",
          "model_name": "HTMLModel",
          "state": {
            "_dom_classes": [],
            "_model_module": "@jupyter-widgets/controls",
            "_model_module_version": "1.5.0",
            "_model_name": "HTMLModel",
            "_view_count": null,
            "_view_module": "@jupyter-widgets/controls",
            "_view_module_version": "1.5.0",
            "_view_name": "HTMLView",
            "description": "",
            "description_tooltip": null,
            "layout": "IPY_MODEL_66f20de63de041508789d2a35661355e",
            "placeholder": "​",
            "style": "IPY_MODEL_a6280cf3318d4f359cfe928de4585f03",
            "value": "Map: 100%"
          }
        },
        "fa9637ab6e68422dbabc38bde38ff31d": {
          "model_module": "@jupyter-widgets/base",
          "model_module_version": "1.2.0",
          "model_name": "LayoutModel",
          "state": {
            "_model_module": "@jupyter-widgets/base",
            "_model_module_version": "1.2.0",
            "_model_name": "LayoutModel",
            "_view_count": null,
            "_view_module": "@jupyter-widgets/base",
            "_view_module_version": "1.2.0",
            "_view_name": "LayoutView",
            "align_content": null,
            "align_items": null,
            "align_self": null,
            "border": null,
            "bottom": null,
            "display": null,
            "flex": null,
            "flex_flow": null,
            "grid_area": null,
            "grid_auto_columns": null,
            "grid_auto_flow": null,
            "grid_auto_rows": null,
            "grid_column": null,
            "grid_gap": null,
            "grid_row": null,
            "grid_template_areas": null,
            "grid_template_columns": null,
            "grid_template_rows": null,
            "height": null,
            "justify_content": null,
            "justify_items": null,
            "left": null,
            "margin": null,
            "max_height": null,
            "max_width": null,
            "min_height": null,
            "min_width": null,
            "object_fit": null,
            "object_position": null,
            "order": null,
            "overflow": null,
            "overflow_x": null,
            "overflow_y": null,
            "padding": null,
            "right": null,
            "top": null,
            "visibility": null,
            "width": null
          }
        }
      }
    }
  },
  "nbformat": 4,
  "nbformat_minor": 5
}